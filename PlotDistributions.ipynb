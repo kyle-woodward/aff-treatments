{
 "cells": [
  {
   "cell_type": "code",
   "execution_count": 1,
   "id": "a463c0da-3abd-448f-980f-569c125f7e9f",
   "metadata": {},
   "outputs": [],
   "source": [
    "import ee\n",
    "import geemap\n",
    "import os\n",
    "import random\n",
    "import numpy as np\n",
    "import math\n",
    "from datetime import datetime\n",
    "ee.Initialize()"
   ]
  },
  {
   "cell_type": "code",
   "execution_count": 2,
   "id": "90fb0de4-306c-46d0-9776-a79c4c019f10",
   "metadata": {},
   "outputs": [],
   "source": [
    "parcels = ee.FeatureCollection(\"projects/aff-treatments/assets/AllParcels_forSIG\")\n",
    "NIparcels = ee.FeatureCollection(\"projects/aff-treatments/assets/AllNIPParcels_forSIG\")\n",
    "fireshed = ee.FeatureCollection(\"projects/aff-treatments/assets/SonoraFireshed\")\n",
    "parcels_dissolve = ee.FeatureCollection(\"projects/aff-treatments/assets/NIPparcels_dissolve\")\n",
    "\n",
    "aoi = fireshed"
   ]
  },
  {
   "cell_type": "code",
   "execution_count": 3,
   "id": "ff017954-9616-4017-9369-0e733282efac",
   "metadata": {},
   "outputs": [
    {
     "name": "stdout",
     "output_type": "stream",
     "text": [
      "parcels total 29647\n"
     ]
    },
    {
     "data": {
      "image/png": "[encoded data removed]",
      "text/plain": [
       "<Figure size 432x288 with 1 Axes>"
      ]
     },
     "metadata": {
      "needs_background": "light"
     },
     "output_type": "display_data"
    }
   ],
   "source": [
    "import matplotlib.pyplot as plt\n",
    "import numpy as np\n",
    "parcels_count = NIparcels.size().getInfo()\n",
    "print('parcels total',parcels_count)\n",
    "parcel_acreage = NIparcels.aggregate_array('ll_gisacre').getInfo()\n",
    "# mean = np.mean(parcel_acreage)\n",
    "# print('parcel acreage mean',mean)\n",
    "plt.hist(parcel_acreage,25,align='mid')\n",
    "plt.axis('tight')\n",
    "plt.show()"
   ]
  },
  {
   "cell_type": "code",
   "execution_count": null,
   "id": "95101a59-9dbf-437c-b5bf-7874e7111e24",
   "metadata": {},
   "outputs": [],
   "source": [
    "rng = np.random.default_rng(9995) # set seed of random number generator\n",
    "mu, sigma = 0., 3.65 # mean and standard deviation - dial these\n",
    "s = rng.normal(mu, sigma, parcels_count)\n",
    "\n",
    "import matplotlib.pyplot as plt\n",
    "\n",
    "plt.hist(s, 25, align='mid')\n",
    "plt.axis('tight')\n",
    "plt.show()\n"
   ]
  },
  {
   "cell_type": "code",
   "execution_count": null,
   "id": "2a79c108-f9c2-419f-8964-05e8cb4f54fb",
   "metadata": {},
   "outputs": [],
   "source": [
    "# convert the samples drawn from above parameterized lognormal distro to PDF values\n",
    "count, bins, ignored = plt.hist(s, 25, density=True, align='mid')\n",
    "x = np.linspace(min(bins), max(bins), parcels_count)\n",
    "pdf = (np.exp(-(np.log(x) - mu)**2 / (2 * sigma**2))\n",
    "       / (x * sigma * np.sqrt(2 * np.pi)))\n",
    "plt.plot(pdf, linewidth=2, color='r')\n",
    "plt.axis('tight')\n",
    "plt.show()\n",
    "\n",
    "# print(count)\n",
    "# print(min(bins))\n",
    "# print(max(bins))\n",
    "\n",
    "print(min(pdf)) # floats in pdf are in range [0,1)\n",
    "print(max(pdf))\n",
    "print(pdf[0:20])"
   ]
  }
 ],
 "metadata": {
  "kernelspec": {
   "display_name": "Python 3 (ipykernel)",
   "language": "python",
   "name": "python3"
  },
  "language_info": {
   "codemirror_mode": {
    "name": "ipython",
    "version": 3
   },
   "file_extension": ".py",
   "mimetype": "text/x-python",
   "name": "python",
   "nbconvert_exporter": "python",
   "pygments_lexer": "ipython3",
   "version": "3.9.7"
  }
 },
 "nbformat": 4,
 "nbformat_minor": 5
}
