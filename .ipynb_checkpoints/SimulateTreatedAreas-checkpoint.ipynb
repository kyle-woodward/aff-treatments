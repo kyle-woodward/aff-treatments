{
 "cells": [
  {
   "cell_type": "markdown",
   "id": "2bc904bc-7607-4e66-a384-2fedde5094a8",
   "metadata": {},
   "source": [
    "# AFF - Generating Treated Landscape Scenarios\n",
    "## Requirements:\n",
    "* LANDFIRE DIST CODE to give all treated pixels\n",
    "* Total area of your AOI, \n",
    "* A structured dictionary of parameters: \n",
    "1) target percentage of AOI treated \n",
    "2) the sizes of distinct treatment units \n",
    "3) ratio of treated area target to be covered by each treatment unit size class\n",
    "## Outputs an Earth Engine imageCollection comprising one Earth Engine Image per scenario, with treated pixels given a pre-determined LANDFIRE DIST code"
   ]
  },
  {
   "cell_type": "code",
   "execution_count": 1,
   "id": "a4a02463-397f-457f-a4e0-88253ac5c53f",
   "metadata": {},
   "outputs": [],
   "source": [
    "DIST_CODE = 222\n",
    "total_area = 245278 #acres\n",
    "plan = {\n",
    "        'scenarios': [0.1,\n",
    "                     0.3,\n",
    "                     0.6],\n",
    "        \n",
    "        'size_classes': [[60,20,10],\n",
    "                        [250,100,50],\n",
    "                        [100,50,10]],\n",
    "        \n",
    "        'trt_unit_ratios': [[0.05,0.03,0.02],\n",
    "                           [0.1,0.1,0.1],\n",
    "                           [0.3,0.2,0.1]]\n",
    "       }"
   ]
  },
  {
   "cell_type": "code",
   "execution_count": 2,
   "id": "6a94304a-b6c8-4a6b-b1b5-a2e4e504ae7a",
   "metadata": {},
   "outputs": [],
   "source": [
    "import ee\n",
    "import geemap\n",
    "ee.Initialize()\n",
    "\n",
    "parcels = ee.FeatureCollection(\"projects/aff-treatments/assets/AllParcels_forSIG\")\n",
    "NIparcels = ee.FeatureCollection(\"projects/aff-treatments/assets/AllNIPParcels_forSIG\")\n",
    "fireshed = ee.FeatureCollection(\"projects/aff-treatments/assets/SonoraFireshed\")\n",
    "aoi = fireshed"
   ]
  },
  {
   "cell_type": "code",
   "execution_count": 3,
   "id": "365609b0-c458-4b86-b66f-575070171b99",
   "metadata": {},
   "outputs": [],
   "source": [
    "def distanceFilter(pts,distance):\n",
    "    withinDistance = distance; ##go with pretty far apart at first\n",
    "\n",
    "    ## From the User Guide: https:#developers.google.com/earth-engine/joins_spatial\n",
    "    ## add extra filter to eliminate self-matches\n",
    "    distFilter = ee.Filter.And(ee.Filter.withinDistance(**{\n",
    "      'distance': withinDistance,\n",
    "      'leftField': '.geo',\n",
    "      'rightField': '.geo', \n",
    "      'maxError': 1\n",
    "    }), ee.Filter.notEquals(**{\n",
    "      'leftField': 'system:index',\n",
    "      'rightField': 'system:index',\n",
    "\n",
    "    }));\n",
    "    \n",
    "    distSaveAll = ee.Join.saveAll(**{\n",
    "                  'matchesKey': 'points',\n",
    "                  'measureKey': 'distance'\n",
    "    });\n",
    "    # Apply the join.\n",
    "    spatialJoined = distSaveAll.apply(pts, pts, distFilter);\n",
    "\n",
    "    # Check the number of matches.\n",
    "    # We're only interested if nmatches > 0.\n",
    "    spatialJoined = spatialJoined.map(lambda f: f.set('nmatches', ee.List(f.get('points')).size()) );\n",
    "    spatialJoined = spatialJoined.filterMetadata('nmatches', 'greater_than', 0);\n",
    "\n",
    "    # The real matches are only half the total, because if p1.withinDistance(p2) then p2.withinDistance(p1)\n",
    "    # Use some iterative logic to clean up\n",
    "    def unpack(l): \n",
    "        return ee.List(l).map(lambda f: ee.Feature(f).id())\n",
    "\n",
    "    def iterator_f(f,list):\n",
    "        key = ee.Feature(f).id()\n",
    "        list = ee.Algorithms.If(ee.List(list).contains(key), list, ee.List(list).cat(unpack(ee.List(f.get('points')))))\n",
    "        return list\n",
    "    \n",
    "    ids = spatialJoined.iterate(iterator_f,ee.List([]))\n",
    "    ##print(\"Removal candidates' IDs\", ids);\n",
    "\n",
    "    # Clean up \n",
    "    cleaned_pts = pts.filter(ee.Filter.inList('system:index', ids).Not());\n",
    "    return cleaned_pts\n",
    "\n"
   ]
  },
  {
   "cell_type": "code",
   "execution_count": 4,
   "id": "ede6b1d6-8a2d-4694-8834-48b9c99a32d9",
   "metadata": {},
   "outputs": [],
   "source": [
    "import math\n",
    "import numpy as np\n",
    "\n",
    "# function that will do all the math thats needed for a given scenario\n",
    "def treatment_math(total_area, scenario, size_classes, trt_unit_ratios):\n",
    "    \"\"\"Returns the amount of treatment units needed per size class and the radii of the kernel needed for each size class to make the shapes tiered treatment landscape in EE\n",
    "    # args:\n",
    "    # total_area (int): total area of aoi to consider treatments in acres\n",
    "    # scenario (float): percent of total area to be treated in the given scenario, expressed as float [0,1]\n",
    "    # size_classes (list): list of unique treatment sizes in acres in descending order of size (e.g. [100,50,10] ) \n",
    "    # trt_unit_ratios (list): ratio of size classes to make up the given pct treated in the scenario, expressed as a list of floats equaling scenario (i.e. if scenario = 0.6, trt_unit_ratios could be [0.2,0.3,0.1] )\n",
    "                                must match order of size_classes\n",
    "    \"\"\"\n",
    "    if round(sum(trt_unit_ratios),1) != scenario:\n",
    "        raise RuntimeError(f\"sum of trt_unit_ratios does not equal scenario: ({scenario})\")\n",
    "    if len(size_classes) != len(trt_unit_ratios):\n",
    "        raise RuntimeError(f\"size_classes and trt_unit_ratios must be of same length\")\n",
    "    \n",
    "    # solve for the radii of the treatment units for each treatment size in meters, radius is passed to an EE function to create the shapes\n",
    "    acres_to_sqm = [int(round(size_i*4027)) for size_i in size_classes] # convert to sq meters for each size class in acreage\n",
    "    radii_circles = [int(round(math.sqrt(acreage/math.pi))) for acreage in acres_to_sqm] # solve for r: A = pi(r^2)\n",
    "    \n",
    "    # next solve for how many of each treatment units you'd need per size class for each scenario (pct total to treat and the proportions among the size classes)\n",
    "    area_of_scenario = total_area*scenario # compute total area to be treated per treatment scenario\n",
    "    area_per_size_class = [int(round(area_of_scenario*ratio)) for ratio in trt_unit_ratios]\n",
    "    units_per_size_class = [int(round(i)) for i in list(np.divide(area_per_size_class,size_classes))]\n",
    "    return units_per_size_class, radii_circles"
   ]
  },
  {
   "cell_type": "code",
   "execution_count": 13,
   "id": "4937c872-cabc-4d60-a60e-7fece55c0279",
   "metadata": {},
   "outputs": [],
   "source": [
    "def treatments(units,radii):\n",
    "    seed = 5155115\n",
    "    ptsBig = ee.Image.constant(1).clip(aoi).sample(aoi,30,'EPSG:3857',None,units[0]+(units[0]*2),seed,True,4,True) \n",
    "    ptsBig = distanceFilter(ptsBig,radii[0]*2.1).limit(units[0])\n",
    "    #print('Big trt points',ptsBig.size().getInfo())\n",
    "    areasBig = ptsBig.reduceToImage(['constant'],ee.Reducer.first()).unmask(0).clip(aoi).reduceNeighborhood(ee.Reducer.max(),ee.Kernel.octagon(radii[0],'meters')).eq(1)\n",
    "\n",
    "    areasBigmask = areasBig.distance(ee.Kernel.euclidean(radii[0]*2,'meters')).gte(0).Not().unmask(1)\n",
    "\n",
    "#     Map.addLayer(ptsBig,{},'big pts')\n",
    "#     Map.addLayer(areasBig, pal, 'big treatments')\n",
    "#     Map.addLayer(areasBigmask,pal,'areasBigmask')\n",
    "    \n",
    "    ptsMedium = areasBigmask.selfMask().sample(aoi,30,'EPSG:3857',None,units[1]+(units[1]*2),seed,True,4,True).map(lambda f: f.set('nd',1))\n",
    "    ptsMedium = distanceFilter(ptsMedium,radii[1]*2.1).limit(units[1])\n",
    "    #print('Medium trt points',ptsMedium.size().getInfo())\n",
    "    areasMedium = ptsMedium.reduceToImage(['nd'],ee.Reducer.first()).unmask(0).clip(aoi).reduceNeighborhood(ee.Reducer.max(),ee.Kernel.octagon(radii[1],'meters')).eq(1)\n",
    "\n",
    "    areasMediummask = areasMedium.distance(ee.Kernel.euclidean(radii[1]*2,'meters')).gte(0).Not().unmask(1)\n",
    "    blendmask = areasBigmask.add(areasMediummask).lte(1).Not().unmask(1)\n",
    "\n",
    "#     Map.addLayer(ptsMedium,{},'medium pts')\n",
    "#     Map.addLayer(areasMedium, pal, 'medium treatments')\n",
    "#     Map.addLayer(areasMediummask,pal,'areasMedium mask')\n",
    "#     Map.addLayer(blendmask,pal,'blendmask')\n",
    "    \n",
    "    ptsSmall = blendmask.selfMask().sample(aoi,30,'EPSG:3857',None,units[2]+(units[2]*2),seed,True,4,True).map(lambda f: f.set('nd',1))\n",
    "    ptsSmall = distanceFilter(ptsSmall,radii[2]*2.1).limit(units[2])\n",
    "    #print('Small trt points',ptsSmall.size().getInfo())\n",
    "    areasSmall = ptsSmall.reduceToImage(['nd'],ee.Reducer.first()).unmask(0).clip(aoi).reduceNeighborhood(ee.Reducer.max(),ee.Kernel.octagon(radii[2],'meters')).eq(1)\n",
    "    \n",
    "#     Map.addLayer(ptsSmall, {}, 'small points')\n",
    "#     Map.addLayer(areasSmall, pal, 'small treatments')\n",
    "    \n",
    "    blendTreatments = areasBig.add(areasMedium).add(areasSmall).gte(1).multiply(DIST_CODE).selfMask().rename('DIST')\n",
    "    \n",
    "#     Map.addLayer(blendTreatments, pal,'final treatment landscape')\n",
    "\n",
    "    return ee.Image(blendTreatments)"
   ]
  },
  {
   "cell_type": "code",
   "execution_count": 14,
   "id": "49f878a5-55d1-41c6-a512-dc9b1958601c",
   "metadata": {},
   "outputs": [
    {
     "name": "stdout",
     "output_type": "stream",
     "text": [
      "Total Area of AOI (ac): 245278\n",
      "\n",
      "Scenario 1\n",
      "Target Percent Treated: 0.1\n",
      "Size Classes (ac): [60, 20, 10]\n",
      "Ratios of Percent Treated Target per Size Class : [0.05, 0.03, 0.02]\n",
      "\n",
      "\n",
      "Scenario 2\n",
      "Target Percent Treated: 0.3\n",
      "Size Classes (ac): [250, 100, 50]\n",
      "Ratios of Percent Treated Target per Size Class : [0.1, 0.1, 0.1]\n",
      "\n",
      "\n",
      "Scenario 3\n",
      "Target Percent Treated: 0.6\n",
      "Size Classes (ac): [100, 50, 10]\n",
      "Ratios of Percent Treated Target per Size Class : [0.3, 0.2, 0.1]\n",
      "\n",
      "\n"
     ]
    }
   ],
   "source": [
    "trt_imgs = []\n",
    "print(f\"Total Area of AOI (ac): {total_area}\\n\")\n",
    "for i in list(range(len(plan['scenarios']))):\n",
    "    print(f\"Scenario {i+1}\")\n",
    "    print(f\"Target Percent Treated: {plan['scenarios'][i]}\")\n",
    "    print(f\"Size Classes (ac): {plan['size_classes'][i]}\")\n",
    "    print(f\"Ratios of Percent Treated Target per Size Class : {plan['trt_unit_ratios'][i]}\")\n",
    "    units,radii = treatment_math(total_area=total_area, scenario=plan['scenarios'][i], size_classes = plan['size_classes'][i],trt_unit_ratios= plan['trt_unit_ratios'][i])\n",
    "    #print(units, radii)\n",
    "    trt_img = treatments(units,radii).set('scenario',i+1)\n",
    "    trt_imgs.append(trt_img)\n",
    "    print('\\n')\n",
    "\n",
    "trt_imgs = ee.ImageCollection.fromImages(ee.List(trt_imgs))"
   ]
  },
  {
   "cell_type": "code",
   "execution_count": 15,
   "id": "1ec22e43-f1d0-478a-90b8-c39e9fb5b4bd",
   "metadata": {},
   "outputs": [
    {
     "data": {
      "application/vnd.jupyter.widget-view+json": {
       "model_id": "13355c2fcb6f4fee9919373cfdf11d94",
       "version_major": 2,
       "version_minor": 0
      },
      "text/plain": [
       "Map(center=[38.06601024718689, -120.26096170747162], controls=(WidgetControl(options=['position', 'transparent…"
      ]
     },
     "metadata": {},
     "output_type": "display_data"
    }
   ],
   "source": [
    "Map = geemap.Map()\n",
    "\n",
    "Map.addLayer(parcels,{},'parcels')\n",
    "Map.addLayer(NIparcels,{},'NIP parcels')\n",
    "Map.addLayer(aoi,{},'fireshed')\n",
    "Map.centerObject(aoi,12)\n",
    "\n",
    "pal = {'min':0,'max':1,'palette':['black','white']}\n",
    "#print(trt_imgs.first().propertyNames().getInfo())\n",
    "Map.addLayer(trt_imgs.sort('scenario',False).first(), pal, 'final trt landscapes')\n",
    "\n",
    "Map"
   ]
  },
  {
   "cell_type": "code",
   "execution_count": null,
   "id": "84ad20ae-1e2d-4ab8-94dd-5d65702bad38",
   "metadata": {},
   "outputs": [],
   "source": [
    "# Export "
   ]
  },
  {
   "cell_type": "code",
   "execution_count": null,
   "id": "a765201b-b1f9-4c65-bf8e-e75db0ab8d7b",
   "metadata": {},
   "outputs": [],
   "source": []
  }
 ],
 "metadata": {
  "kernelspec": {
   "display_name": "Python 3 (ipykernel)",
   "language": "python",
   "name": "python3"
  },
  "language_info": {
   "codemirror_mode": {
    "name": "ipython",
    "version": 3
   },
   "file_extension": ".py",
   "mimetype": "text/x-python",
   "name": "python",
   "nbconvert_exporter": "python",
   "pygments_lexer": "ipython3",
   "version": "3.9.7"
  }
 },
 "nbformat": 4,
 "nbformat_minor": 5
}
