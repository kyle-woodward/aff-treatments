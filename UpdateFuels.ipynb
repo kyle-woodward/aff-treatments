{
 "cells": [
  {
   "cell_type": "code",
   "execution_count": 2,
   "metadata": {},
   "outputs": [],
   "source": [
    "import ee\n",
    "import os\n",
    "ee.Initialize()"
   ]
  },
  {
   "cell_type": "markdown",
   "metadata": {},
   "source": [
    "### Make a folder to hold fuel layers generated from your treatment scenario ensemble"
   ]
  },
  {
   "cell_type": "code",
   "execution_count": 3,
   "metadata": {},
   "outputs": [
    {
     "name": "stdout",
     "output_type": "stream",
     "text": [
      "projects/pyregence-ee/assets/aff-treatments/runs_scenarios_12_distro_log_20220811/fuelscapes_scenarios already exists\n"
     ]
    }
   ],
   "source": [
    "scenarios_path = \"projects/pyregence-ee/assets/aff-treatments/runs_scenarios_12_distro_log_20220811/treatment_scenarios\" # change this to given runs folder path\n",
    "scenarios = ee.ImageCollection(scenarios_path)\n",
    "#create a folder representing scenarios imgColl name scheme\n",
    "fuels_folder=scenarios_path.replace('treatment_scenarios','fuelscapes_scenarios')\n",
    "fuels_folder_list = os.popen(f\"earthengine ls {os.path.dirname(scenarios_path)}\").read().split('\\n')[0:-1]\n",
    "if not fuels_folder in fuels_folder_list:\n",
    "    os.popen(f\"earthengine create folder {fuels_folder}\").read()\n",
    "    print(f'Created Folder: {fuels_folder}')\n",
    "else:\n",
    "    print(f\"{fuels_folder} already exists\")"
   ]
  },
  {
   "cell_type": "markdown",
   "metadata": {},
   "source": [
    "### For each treated landscape img in your treatment scenarios imageCollection, create a new folder to hold the fuels layers"
   ]
  },
  {
   "cell_type": "code",
   "execution_count": 4,
   "metadata": {},
   "outputs": [
    {
     "name": "stdout",
     "output_type": "stream",
     "text": [
      "projects/pyregence-ee/assets/aff-treatments/runs_scenarios_12_distro_log_20220811/fuelscapes_scenarios/scenario1 already exists\n",
      "projects/pyregence-ee/assets/aff-treatments/runs_scenarios_12_distro_log_20220811/fuelscapes_scenarios/scenario10 already exists\n",
      "projects/pyregence-ee/assets/aff-treatments/runs_scenarios_12_distro_log_20220811/fuelscapes_scenarios/scenario11 already exists\n",
      "projects/pyregence-ee/assets/aff-treatments/runs_scenarios_12_distro_log_20220811/fuelscapes_scenarios/scenario12 already exists\n",
      "projects/pyregence-ee/assets/aff-treatments/runs_scenarios_12_distro_log_20220811/fuelscapes_scenarios/scenario2 already exists\n",
      "projects/pyregence-ee/assets/aff-treatments/runs_scenarios_12_distro_log_20220811/fuelscapes_scenarios/scenario3 already exists\n",
      "projects/pyregence-ee/assets/aff-treatments/runs_scenarios_12_distro_log_20220811/fuelscapes_scenarios/scenario4 already exists\n",
      "projects/pyregence-ee/assets/aff-treatments/runs_scenarios_12_distro_log_20220811/fuelscapes_scenarios/scenario5 already exists\n",
      "projects/pyregence-ee/assets/aff-treatments/runs_scenarios_12_distro_log_20220811/fuelscapes_scenarios/scenario6 already exists\n",
      "projects/pyregence-ee/assets/aff-treatments/runs_scenarios_12_distro_log_20220811/fuelscapes_scenarios/scenario7 already exists\n",
      "projects/pyregence-ee/assets/aff-treatments/runs_scenarios_12_distro_log_20220811/fuelscapes_scenarios/scenario8 already exists\n",
      "projects/pyregence-ee/assets/aff-treatments/runs_scenarios_12_distro_log_20220811/fuelscapes_scenarios/scenario9 already exists\n"
     ]
    }
   ],
   "source": [
    "scenarios_img_paths = os.popen(f\"earthengine ls {scenarios_path}\").read().split('\\n')[0:-1]\n",
    "scn_sub_folders = [(fuels_folder+'/'+os.path.basename(path)) for path in scenarios_img_paths]\n",
    "\n",
    "sub_folders_list = os.popen(f\"earthengine ls {fuels_folder}\").read().split('\\n')[0:-1]\n",
    "for sub_folder_name in scn_sub_folders:\n",
    "    if not sub_folder_name in sub_folders_list:\n",
    "        os.popen(f\"earthengine create folder {sub_folder_name}\").read()\n",
    "        print(f'Created scenario fuelscapes sub-folder: {sub_folder_name}')\n",
    "    else:\n",
    "        print(f\"{sub_folder_name} already exists\")"
   ]
  },
  {
   "cell_type": "markdown",
   "metadata": {},
   "source": [
    "### Loop thru each fuel updater script the way we do for FireFactor: create_canopy_guide, calc_CC_CH, calc_CBD_CBH, calc_FM40 (don't need to run fm40 wui update)"
   ]
  },
  {
   "cell_type": "code",
   "execution_count": 5,
   "metadata": {},
   "outputs": [],
   "source": [
    "# get config.yml file path, needed for every script\n",
    "config_path = f\"{os.getcwd()}\\config.yml\" # on windows its a forward slash"
   ]
  },
  {
   "cell_type": "markdown",
   "metadata": {},
   "source": [
    "### You can run Canopy Guide and FM40 updater scripts at same time since they do not depend on one another"
   ]
  },
  {
   "cell_type": "code",
   "execution_count": null,
   "metadata": {},
   "outputs": [],
   "source": [
    "# Canopy Guide\n",
    "# for scn_img_path,scn_sub_folder in zip(scenarios_img_paths,scn_sub_folders):\n",
    "#     cmd = f\"python src/create_canopy_guide.py -c {config_path} -d {scn_img_path} -o {scn_sub_folder}\" # pass the config file path, the given scenarios DIST img path, and the given scenarios fuelscapes folder path\n",
    "#     print(cmd)\n",
    "#     os.popen(cmd).read()\n",
    "#     #break\n",
    "\n",
    "# FM40\n",
    "# for scn_img_path,scn_sub_folder in zip(scenarios_img_paths,scn_sub_folders):\n",
    "#     cmd = f\"python src/calc_FM40.py -c {config_path} -d {scn_img_path} -o {scn_sub_folder}\" # pass the config file path, the given scenarios DIST img path, and the given scenarios fuelscapes folder path\n",
    "#     print(cmd)\n",
    "#     os.popen(cmd).read()\n",
    "#     #break\n"
   ]
  },
  {
   "cell_type": "markdown",
   "metadata": {},
   "source": [
    "### You must wait until all Canopy Guide exports have successfully completed before running the CC_CH script"
   ]
  },
  {
   "cell_type": "code",
   "execution_count": null,
   "metadata": {},
   "outputs": [],
   "source": [
    "# CC and CH\n",
    "# for scn_img_path,scn_sub_folder in zip(scenarios_img_paths,scn_sub_folders):\n",
    "#     cmd = f\"python src/calc_CC_CH.py -c {config_path} -d {scn_img_path} -o {scn_sub_folder}\" # pass the config file path, the given scenarios DIST img path, and the given scenarios fuelscapes folder path\n",
    "#     print(cmd)\n",
    "#     os.popen(cmd).read()\n",
    "#     print('\\n')\n",
    "#     #break"
   ]
  },
  {
   "cell_type": "markdown",
   "metadata": {},
   "source": [
    "### wait until all CC and CH exports have completed before running CBD_CBH "
   ]
  },
  {
   "cell_type": "code",
   "execution_count": 5,
   "metadata": {},
   "outputs": [
    {
     "name": "stdout",
     "output_type": "stream",
     "text": [
      "python src/calc_CBD_CBH.py -c c:\\aff-treatments\\config.yml -d projects/pyregence-ee/assets/aff-treatments/runs_scenarios_12_distro_log_20220811/treatment_scenarios/scenario1 -o projects/pyregence-ee/assets/aff-treatments/runs_scenarios_12_distro_log_20220811/fuelscapes_scenarios/scenario1\n",
      "\n",
      "\n"
     ]
    }
   ],
   "source": [
    "# CBD and CBH\n",
    "for scn_img_path,scn_sub_folder in zip(scenarios_img_paths,scn_sub_folders):\n",
    "    cmd = f\"python src/calc_CBD_CBH.py -c {config_path} -d {scn_img_path} -o {scn_sub_folder}\" # pass the config file path, the given scenarios DIST img path, and the given scenarios fuelscapes folder path\n",
    "    print(cmd)\n",
    "    os.popen(cmd).read()\n",
    "    print('\\n')\n",
    "    break"
   ]
  },
  {
   "cell_type": "markdown",
   "metadata": {},
   "source": [
    "### After all fuel layers in each scenario's fuelscape has successfully exported, collate each 5-layer fuelscape into a multiband img for Google Drive Export"
   ]
  },
  {
   "cell_type": "code",
   "execution_count": 6,
   "metadata": {},
   "outputs": [
    {
     "name": "stdout",
     "output_type": "stream",
     "text": [
      "projects/pyregence-ee/assets/aff-treatments/runs_scenarios_12_distro_log_20220811/treatment_scenarios/scenario1\n",
      "projects/pyregence-ee/assets/aff-treatments/runs_scenarios_12_distro_log_20220811/fuelscapes_scenarios/scenario1\n",
      "projects/pyregence-ee/assets/aff-treatments/runs_scenarios_12_distro_log_20220811/treatment_scenarios/scenario10\n",
      "projects/pyregence-ee/assets/aff-treatments/runs_scenarios_12_distro_log_20220811/fuelscapes_scenarios/scenario10\n",
      "projects/pyregence-ee/assets/aff-treatments/runs_scenarios_12_distro_log_20220811/treatment_scenarios/scenario11\n",
      "projects/pyregence-ee/assets/aff-treatments/runs_scenarios_12_distro_log_20220811/fuelscapes_scenarios/scenario11\n",
      "projects/pyregence-ee/assets/aff-treatments/runs_scenarios_12_distro_log_20220811/treatment_scenarios/scenario12\n",
      "projects/pyregence-ee/assets/aff-treatments/runs_scenarios_12_distro_log_20220811/fuelscapes_scenarios/scenario12\n",
      "projects/pyregence-ee/assets/aff-treatments/runs_scenarios_12_distro_log_20220811/treatment_scenarios/scenario2\n",
      "projects/pyregence-ee/assets/aff-treatments/runs_scenarios_12_distro_log_20220811/fuelscapes_scenarios/scenario2\n",
      "projects/pyregence-ee/assets/aff-treatments/runs_scenarios_12_distro_log_20220811/treatment_scenarios/scenario3\n",
      "projects/pyregence-ee/assets/aff-treatments/runs_scenarios_12_distro_log_20220811/fuelscapes_scenarios/scenario3\n",
      "projects/pyregence-ee/assets/aff-treatments/runs_scenarios_12_distro_log_20220811/treatment_scenarios/scenario4\n",
      "projects/pyregence-ee/assets/aff-treatments/runs_scenarios_12_distro_log_20220811/fuelscapes_scenarios/scenario4\n",
      "projects/pyregence-ee/assets/aff-treatments/runs_scenarios_12_distro_log_20220811/treatment_scenarios/scenario5\n",
      "projects/pyregence-ee/assets/aff-treatments/runs_scenarios_12_distro_log_20220811/fuelscapes_scenarios/scenario5\n",
      "projects/pyregence-ee/assets/aff-treatments/runs_scenarios_12_distro_log_20220811/treatment_scenarios/scenario6\n",
      "projects/pyregence-ee/assets/aff-treatments/runs_scenarios_12_distro_log_20220811/fuelscapes_scenarios/scenario6\n",
      "projects/pyregence-ee/assets/aff-treatments/runs_scenarios_12_distro_log_20220811/treatment_scenarios/scenario7\n",
      "projects/pyregence-ee/assets/aff-treatments/runs_scenarios_12_distro_log_20220811/fuelscapes_scenarios/scenario7\n",
      "projects/pyregence-ee/assets/aff-treatments/runs_scenarios_12_distro_log_20220811/treatment_scenarios/scenario8\n",
      "projects/pyregence-ee/assets/aff-treatments/runs_scenarios_12_distro_log_20220811/fuelscapes_scenarios/scenario8\n",
      "projects/pyregence-ee/assets/aff-treatments/runs_scenarios_12_distro_log_20220811/treatment_scenarios/scenario9\n",
      "projects/pyregence-ee/assets/aff-treatments/runs_scenarios_12_distro_log_20220811/fuelscapes_scenarios/scenario9\n"
     ]
    }
   ],
   "source": [
    "# must mosaic the canopy guide and fm40 collections (in this case just .first()) \n",
    "# since they are exported as zone-wise img collections by default\n",
    "import yml_params\n",
    "for scn_img_path,scn_sub_folder in zip(scenarios_img_paths,scn_sub_folders):\n",
    "    #print(scn_img_path)\n",
    "    print(scn_sub_folder)\n",
    "    fm40 = ee.ImageCollection(scn_sub_folder+'/fm40_collection').select('new_fbfm40').mosaic()\n",
    "    cc = ee.Image(scn_sub_folder+'/CC')\n",
    "    ch = ee.Image(scn_sub_folder+'/CH')\n",
    "    #cbh = ee.Image(scn_sub_folder+'/CBH')\n",
    "    #cbd = ee.Image(scn_sub_folder+'/CBD')\n",
    "    fuel_stack = fm40.addBands(cc).addBands(ch)\n",
    "    print(fuel_stack.bandNames())\n",
    "\n",
    "    # export\n",
    "    runs_id = scn_sub_folder.split('/')[6]\n",
    "    scn_id = scn_sub_folder.split('/')[-1]\n",
    "    print(runs_id)\n",
    "    print(scn_id)\n",
    "    \n",
    "    desc = f\"export_{runs_id}_{scn_id}_fuelStack\"\n",
    "    crs,scale = yml_params.get_export_params(config_path)\n",
    "    print(desc)\n",
    "    print(crs)\n",
    "    print(scale)\n",
    "    folder='AFF_Fuelscapes'\n",
    "    fileNamePrefix=f'{runs_id}/fuelStack_{scn_id}'\n",
    "    \n",
    "    task = ee.batch.Export.image.toDrive(image=fuel_stack,description=desc,folder=folder,fileNamePrefix=fileNamePrefix,region=fuel_stack.geometry(),scale=scale,crs=crs)\n",
    "    task.start()\n",
    "    print(f'Export started: {folder}/{fileNamePrefix}')\n",
    "    break"
   ]
  },
  {
   "cell_type": "code",
   "execution_count": null,
   "metadata": {},
   "outputs": [],
   "source": []
  }
 ],
 "metadata": {
  "kernelspec": {
   "display_name": "Python 3.9.7 ('landfire')",
   "language": "python",
   "name": "python3"
  },
  "language_info": {
   "codemirror_mode": {
    "name": "ipython",
    "version": 3
   },
   "file_extension": ".py",
   "mimetype": "text/x-python",
   "name": "python",
   "nbconvert_exporter": "python",
   "pygments_lexer": "ipython3",
   "version": "3.9.13"
  },
  "orig_nbformat": 4,
  "vscode": {
   "interpreter": {
    "hash": "b045285e38fda93a4327fd6f5b25a15537de31176f3a715e434b68ddefce5dcb"
   }
  }
 },
 "nbformat": 4,
 "nbformat_minor": 2
}
