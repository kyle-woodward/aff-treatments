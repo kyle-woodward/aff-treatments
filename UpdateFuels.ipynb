{
 "cells": [
  {
   "cell_type": "code",
   "execution_count": 1,
   "metadata": {},
   "outputs": [],
   "source": [
    "import ee\n",
    "import os\n",
    "ee.Initialize()"
   ]
  },
  {
   "cell_type": "markdown",
   "metadata": {},
   "source": [
    "### Make a folder to hold fuel layers generated from your treatment scenario ensemble"
   ]
  },
  {
   "cell_type": "code",
   "execution_count": 2,
   "metadata": {},
   "outputs": [
    {
     "name": "stdout",
     "output_type": "stream",
     "text": [
      "Created Folder: projects/pyregence-ee/assets/aff-treatments/runs_scenarios_13_distro_norm_20220919/fuelscapes_scenarios\n"
     ]
    }
   ],
   "source": [
    "scenarios_path = \"projects/pyregence-ee/assets/aff-treatments/runs_scenarios_13_distro_norm_20220919/treatment_scenarios\" # change this to given runs folder path\n",
    "scenarios = ee.ImageCollection(scenarios_path)\n",
    "#create a fuelscapes folder within the runs folder\n",
    "fuels_folder=scenarios_path.replace('treatment_scenarios','fuelscapes_scenarios')\n",
    "fuels_folder_list = os.popen(f\"earthengine ls {os.path.dirname(scenarios_path)}\").read().split('\\n')[0:-1]\n",
    "if not fuels_folder in fuels_folder_list:\n",
    "    os.popen(f\"earthengine create folder {fuels_folder}\").read()\n",
    "    print(f'Created Folder: {fuels_folder}')\n",
    "else:\n",
    "    print(f\"{fuels_folder} already exists\")"
   ]
  },
  {
   "cell_type": "markdown",
   "metadata": {},
   "source": [
    "### For each treated landscape img in your treatment scenarios imageCollection, create a new folder to hold the fuels layers"
   ]
  },
  {
   "cell_type": "code",
   "execution_count": 3,
   "metadata": {},
   "outputs": [
    {
     "name": "stdout",
     "output_type": "stream",
     "text": [
      "Created scenario fuelscapes sub-folder: projects/pyregence-ee/assets/aff-treatments/runs_scenarios_13_distro_norm_20220919/fuelscapes_scenarios/scenario1\n",
      "Created scenario fuelscapes sub-folder: projects/pyregence-ee/assets/aff-treatments/runs_scenarios_13_distro_norm_20220919/fuelscapes_scenarios/scenario10\n",
      "Created scenario fuelscapes sub-folder: projects/pyregence-ee/assets/aff-treatments/runs_scenarios_13_distro_norm_20220919/fuelscapes_scenarios/scenario11\n",
      "Created scenario fuelscapes sub-folder: projects/pyregence-ee/assets/aff-treatments/runs_scenarios_13_distro_norm_20220919/fuelscapes_scenarios/scenario12\n",
      "Created scenario fuelscapes sub-folder: projects/pyregence-ee/assets/aff-treatments/runs_scenarios_13_distro_norm_20220919/fuelscapes_scenarios/scenario13\n",
      "Created scenario fuelscapes sub-folder: projects/pyregence-ee/assets/aff-treatments/runs_scenarios_13_distro_norm_20220919/fuelscapes_scenarios/scenario2\n",
      "Created scenario fuelscapes sub-folder: projects/pyregence-ee/assets/aff-treatments/runs_scenarios_13_distro_norm_20220919/fuelscapes_scenarios/scenario3\n",
      "Created scenario fuelscapes sub-folder: projects/pyregence-ee/assets/aff-treatments/runs_scenarios_13_distro_norm_20220919/fuelscapes_scenarios/scenario4\n",
      "Created scenario fuelscapes sub-folder: projects/pyregence-ee/assets/aff-treatments/runs_scenarios_13_distro_norm_20220919/fuelscapes_scenarios/scenario5\n",
      "Created scenario fuelscapes sub-folder: projects/pyregence-ee/assets/aff-treatments/runs_scenarios_13_distro_norm_20220919/fuelscapes_scenarios/scenario6\n",
      "Created scenario fuelscapes sub-folder: projects/pyregence-ee/assets/aff-treatments/runs_scenarios_13_distro_norm_20220919/fuelscapes_scenarios/scenario7\n",
      "Created scenario fuelscapes sub-folder: projects/pyregence-ee/assets/aff-treatments/runs_scenarios_13_distro_norm_20220919/fuelscapes_scenarios/scenario8\n",
      "Created scenario fuelscapes sub-folder: projects/pyregence-ee/assets/aff-treatments/runs_scenarios_13_distro_norm_20220919/fuelscapes_scenarios/scenario9\n"
     ]
    }
   ],
   "source": [
    "scenarios_img_paths = os.popen(f\"earthengine ls {scenarios_path}\").read().split('\\n')[0:-1]\n",
    "scn_sub_folders = [(fuels_folder+'/'+os.path.basename(path)) for path in scenarios_img_paths]\n",
    "\n",
    "sub_folders_list = os.popen(f\"earthengine ls {fuels_folder}\").read().split('\\n')[0:-1]\n",
    "for sub_folder_name in scn_sub_folders:\n",
    "    if not sub_folder_name in sub_folders_list:\n",
    "        os.popen(f\"earthengine create folder {sub_folder_name}\").read()\n",
    "        print(f'Created scenario fuelscapes sub-folder: {sub_folder_name}')\n",
    "    else:\n",
    "        print(f\"{sub_folder_name} already exists\")"
   ]
  },
  {
   "cell_type": "markdown",
   "metadata": {},
   "source": [
    "### Loop thru each fuel updater script the way we do for FireFactor: create_canopy_guide, calc_CC_CH, calc_CBD_CBH, calc_FM40 (don't need to run fm40 wui update)"
   ]
  },
  {
   "cell_type": "code",
   "execution_count": 4,
   "metadata": {},
   "outputs": [
    {
     "name": "stdout",
     "output_type": "stream",
     "text": [
      "c:\\aff-treatments\\config.yml\n"
     ]
    }
   ],
   "source": [
    "# get config.yml file path, needed for every script\n",
    "config_path = os.path.join(os.getcwd(),'config.yml')\n",
    "print(config_path)"
   ]
  },
  {
   "cell_type": "markdown",
   "metadata": {},
   "source": [
    "### You can run Canopy Guide and FM40 updater scripts at same time since they do not depend on one another"
   ]
  },
  {
   "cell_type": "code",
   "execution_count": 5,
   "metadata": {},
   "outputs": [
    {
     "name": "stdout",
     "output_type": "stream",
     "text": [
      "python src/create_canopy_guide.py -c c:\\aff-treatments\\config.yml -d projects/pyregence-ee/assets/aff-treatments/runs_scenarios_13_distro_norm_20220919/treatment_scenarios/scenario1 -o projects/pyregence-ee/assets/aff-treatments/runs_scenarios_13_distro_norm_20220919/fuelscapes_scenarios/scenario1\n",
      "python src/create_canopy_guide.py -c c:\\aff-treatments\\config.yml -d projects/pyregence-ee/assets/aff-treatments/runs_scenarios_13_distro_norm_20220919/treatment_scenarios/scenario10 -o projects/pyregence-ee/assets/aff-treatments/runs_scenarios_13_distro_norm_20220919/fuelscapes_scenarios/scenario10\n",
      "python src/create_canopy_guide.py -c c:\\aff-treatments\\config.yml -d projects/pyregence-ee/assets/aff-treatments/runs_scenarios_13_distro_norm_20220919/treatment_scenarios/scenario11 -o projects/pyregence-ee/assets/aff-treatments/runs_scenarios_13_distro_norm_20220919/fuelscapes_scenarios/scenario11\n",
      "python src/create_canopy_guide.py -c c:\\aff-treatments\\config.yml -d projects/pyregence-ee/assets/aff-treatments/runs_scenarios_13_distro_norm_20220919/treatment_scenarios/scenario12 -o projects/pyregence-ee/assets/aff-treatments/runs_scenarios_13_distro_norm_20220919/fuelscapes_scenarios/scenario12\n",
      "python src/create_canopy_guide.py -c c:\\aff-treatments\\config.yml -d projects/pyregence-ee/assets/aff-treatments/runs_scenarios_13_distro_norm_20220919/treatment_scenarios/scenario13 -o projects/pyregence-ee/assets/aff-treatments/runs_scenarios_13_distro_norm_20220919/fuelscapes_scenarios/scenario13\n",
      "python src/create_canopy_guide.py -c c:\\aff-treatments\\config.yml -d projects/pyregence-ee/assets/aff-treatments/runs_scenarios_13_distro_norm_20220919/treatment_scenarios/scenario2 -o projects/pyregence-ee/assets/aff-treatments/runs_scenarios_13_distro_norm_20220919/fuelscapes_scenarios/scenario2\n",
      "python src/create_canopy_guide.py -c c:\\aff-treatments\\config.yml -d projects/pyregence-ee/assets/aff-treatments/runs_scenarios_13_distro_norm_20220919/treatment_scenarios/scenario3 -o projects/pyregence-ee/assets/aff-treatments/runs_scenarios_13_distro_norm_20220919/fuelscapes_scenarios/scenario3\n",
      "python src/create_canopy_guide.py -c c:\\aff-treatments\\config.yml -d projects/pyregence-ee/assets/aff-treatments/runs_scenarios_13_distro_norm_20220919/treatment_scenarios/scenario4 -o projects/pyregence-ee/assets/aff-treatments/runs_scenarios_13_distro_norm_20220919/fuelscapes_scenarios/scenario4\n",
      "python src/create_canopy_guide.py -c c:\\aff-treatments\\config.yml -d projects/pyregence-ee/assets/aff-treatments/runs_scenarios_13_distro_norm_20220919/treatment_scenarios/scenario5 -o projects/pyregence-ee/assets/aff-treatments/runs_scenarios_13_distro_norm_20220919/fuelscapes_scenarios/scenario5\n",
      "python src/create_canopy_guide.py -c c:\\aff-treatments\\config.yml -d projects/pyregence-ee/assets/aff-treatments/runs_scenarios_13_distro_norm_20220919/treatment_scenarios/scenario6 -o projects/pyregence-ee/assets/aff-treatments/runs_scenarios_13_distro_norm_20220919/fuelscapes_scenarios/scenario6\n",
      "python src/create_canopy_guide.py -c c:\\aff-treatments\\config.yml -d projects/pyregence-ee/assets/aff-treatments/runs_scenarios_13_distro_norm_20220919/treatment_scenarios/scenario7 -o projects/pyregence-ee/assets/aff-treatments/runs_scenarios_13_distro_norm_20220919/fuelscapes_scenarios/scenario7\n",
      "python src/create_canopy_guide.py -c c:\\aff-treatments\\config.yml -d projects/pyregence-ee/assets/aff-treatments/runs_scenarios_13_distro_norm_20220919/treatment_scenarios/scenario8 -o projects/pyregence-ee/assets/aff-treatments/runs_scenarios_13_distro_norm_20220919/fuelscapes_scenarios/scenario8\n",
      "python src/create_canopy_guide.py -c c:\\aff-treatments\\config.yml -d projects/pyregence-ee/assets/aff-treatments/runs_scenarios_13_distro_norm_20220919/treatment_scenarios/scenario9 -o projects/pyregence-ee/assets/aff-treatments/runs_scenarios_13_distro_norm_20220919/fuelscapes_scenarios/scenario9\n",
      "python src/calc_FM40.py -c c:\\aff-treatments\\config.yml -d projects/pyregence-ee/assets/aff-treatments/runs_scenarios_13_distro_norm_20220919/treatment_scenarios/scenario1 -o projects/pyregence-ee/assets/aff-treatments/runs_scenarios_13_distro_norm_20220919/fuelscapes_scenarios/scenario1\n",
      "python src/calc_FM40.py -c c:\\aff-treatments\\config.yml -d projects/pyregence-ee/assets/aff-treatments/runs_scenarios_13_distro_norm_20220919/treatment_scenarios/scenario10 -o projects/pyregence-ee/assets/aff-treatments/runs_scenarios_13_distro_norm_20220919/fuelscapes_scenarios/scenario10\n",
      "python src/calc_FM40.py -c c:\\aff-treatments\\config.yml -d projects/pyregence-ee/assets/aff-treatments/runs_scenarios_13_distro_norm_20220919/treatment_scenarios/scenario11 -o projects/pyregence-ee/assets/aff-treatments/runs_scenarios_13_distro_norm_20220919/fuelscapes_scenarios/scenario11\n",
      "python src/calc_FM40.py -c c:\\aff-treatments\\config.yml -d projects/pyregence-ee/assets/aff-treatments/runs_scenarios_13_distro_norm_20220919/treatment_scenarios/scenario12 -o projects/pyregence-ee/assets/aff-treatments/runs_scenarios_13_distro_norm_20220919/fuelscapes_scenarios/scenario12\n",
      "python src/calc_FM40.py -c c:\\aff-treatments\\config.yml -d projects/pyregence-ee/assets/aff-treatments/runs_scenarios_13_distro_norm_20220919/treatment_scenarios/scenario13 -o projects/pyregence-ee/assets/aff-treatments/runs_scenarios_13_distro_norm_20220919/fuelscapes_scenarios/scenario13\n",
      "python src/calc_FM40.py -c c:\\aff-treatments\\config.yml -d projects/pyregence-ee/assets/aff-treatments/runs_scenarios_13_distro_norm_20220919/treatment_scenarios/scenario2 -o projects/pyregence-ee/assets/aff-treatments/runs_scenarios_13_distro_norm_20220919/fuelscapes_scenarios/scenario2\n",
      "python src/calc_FM40.py -c c:\\aff-treatments\\config.yml -d projects/pyregence-ee/assets/aff-treatments/runs_scenarios_13_distro_norm_20220919/treatment_scenarios/scenario3 -o projects/pyregence-ee/assets/aff-treatments/runs_scenarios_13_distro_norm_20220919/fuelscapes_scenarios/scenario3\n",
      "python src/calc_FM40.py -c c:\\aff-treatments\\config.yml -d projects/pyregence-ee/assets/aff-treatments/runs_scenarios_13_distro_norm_20220919/treatment_scenarios/scenario4 -o projects/pyregence-ee/assets/aff-treatments/runs_scenarios_13_distro_norm_20220919/fuelscapes_scenarios/scenario4\n",
      "python src/calc_FM40.py -c c:\\aff-treatments\\config.yml -d projects/pyregence-ee/assets/aff-treatments/runs_scenarios_13_distro_norm_20220919/treatment_scenarios/scenario5 -o projects/pyregence-ee/assets/aff-treatments/runs_scenarios_13_distro_norm_20220919/fuelscapes_scenarios/scenario5\n",
      "python src/calc_FM40.py -c c:\\aff-treatments\\config.yml -d projects/pyregence-ee/assets/aff-treatments/runs_scenarios_13_distro_norm_20220919/treatment_scenarios/scenario6 -o projects/pyregence-ee/assets/aff-treatments/runs_scenarios_13_distro_norm_20220919/fuelscapes_scenarios/scenario6\n",
      "python src/calc_FM40.py -c c:\\aff-treatments\\config.yml -d projects/pyregence-ee/assets/aff-treatments/runs_scenarios_13_distro_norm_20220919/treatment_scenarios/scenario7 -o projects/pyregence-ee/assets/aff-treatments/runs_scenarios_13_distro_norm_20220919/fuelscapes_scenarios/scenario7\n",
      "python src/calc_FM40.py -c c:\\aff-treatments\\config.yml -d projects/pyregence-ee/assets/aff-treatments/runs_scenarios_13_distro_norm_20220919/treatment_scenarios/scenario8 -o projects/pyregence-ee/assets/aff-treatments/runs_scenarios_13_distro_norm_20220919/fuelscapes_scenarios/scenario8\n",
      "python src/calc_FM40.py -c c:\\aff-treatments\\config.yml -d projects/pyregence-ee/assets/aff-treatments/runs_scenarios_13_distro_norm_20220919/treatment_scenarios/scenario9 -o projects/pyregence-ee/assets/aff-treatments/runs_scenarios_13_distro_norm_20220919/fuelscapes_scenarios/scenario9\n"
     ]
    }
   ],
   "source": [
    "# Canopy Guide\n",
    "for scn_img_path,scn_sub_folder in zip(scenarios_img_paths,scn_sub_folders):\n",
    "    cmd = f\"python src/create_canopy_guide.py -c {config_path} -d {scn_img_path} -o {scn_sub_folder}\" # pass the config file path, the given scenarios DIST img path, and the given scenarios fuelscapes folder path\n",
    "    print(cmd)\n",
    "    os.popen(cmd).read()\n",
    "    #break\n",
    "\n",
    "# FM40\n",
    "for scn_img_path,scn_sub_folder in zip(scenarios_img_paths,scn_sub_folders):\n",
    "    cmd = f\"python src/calc_FM40.py -c {config_path} -d {scn_img_path} -o {scn_sub_folder}\" # pass the config file path, the given scenarios DIST img path, and the given scenarios fuelscapes folder path\n",
    "    print(cmd)\n",
    "    os.popen(cmd).read()\n",
    "    #break\n"
   ]
  },
  {
   "cell_type": "markdown",
   "metadata": {},
   "source": [
    "### wait until all Canopy Guide exports have successfully completed before running the CC_CH script"
   ]
  },
  {
   "cell_type": "code",
   "execution_count": 6,
   "metadata": {},
   "outputs": [
    {
     "name": "stdout",
     "output_type": "stream",
     "text": [
      "python src/calc_CC_CH.py -c c:\\aff-treatments\\config.yml -d projects/pyregence-ee/assets/aff-treatments/runs_scenarios_13_distro_norm_20220919/treatment_scenarios/scenario1 -o projects/pyregence-ee/assets/aff-treatments/runs_scenarios_13_distro_norm_20220919/fuelscapes_scenarios/scenario1\n",
      "\n",
      "\n",
      "python src/calc_CC_CH.py -c c:\\aff-treatments\\config.yml -d projects/pyregence-ee/assets/aff-treatments/runs_scenarios_13_distro_norm_20220919/treatment_scenarios/scenario10 -o projects/pyregence-ee/assets/aff-treatments/runs_scenarios_13_distro_norm_20220919/fuelscapes_scenarios/scenario10\n",
      "\n",
      "\n",
      "python src/calc_CC_CH.py -c c:\\aff-treatments\\config.yml -d projects/pyregence-ee/assets/aff-treatments/runs_scenarios_13_distro_norm_20220919/treatment_scenarios/scenario11 -o projects/pyregence-ee/assets/aff-treatments/runs_scenarios_13_distro_norm_20220919/fuelscapes_scenarios/scenario11\n",
      "\n",
      "\n",
      "python src/calc_CC_CH.py -c c:\\aff-treatments\\config.yml -d projects/pyregence-ee/assets/aff-treatments/runs_scenarios_13_distro_norm_20220919/treatment_scenarios/scenario12 -o projects/pyregence-ee/assets/aff-treatments/runs_scenarios_13_distro_norm_20220919/fuelscapes_scenarios/scenario12\n",
      "\n",
      "\n",
      "python src/calc_CC_CH.py -c c:\\aff-treatments\\config.yml -d projects/pyregence-ee/assets/aff-treatments/runs_scenarios_13_distro_norm_20220919/treatment_scenarios/scenario13 -o projects/pyregence-ee/assets/aff-treatments/runs_scenarios_13_distro_norm_20220919/fuelscapes_scenarios/scenario13\n",
      "\n",
      "\n",
      "python src/calc_CC_CH.py -c c:\\aff-treatments\\config.yml -d projects/pyregence-ee/assets/aff-treatments/runs_scenarios_13_distro_norm_20220919/treatment_scenarios/scenario2 -o projects/pyregence-ee/assets/aff-treatments/runs_scenarios_13_distro_norm_20220919/fuelscapes_scenarios/scenario2\n",
      "\n",
      "\n",
      "python src/calc_CC_CH.py -c c:\\aff-treatments\\config.yml -d projects/pyregence-ee/assets/aff-treatments/runs_scenarios_13_distro_norm_20220919/treatment_scenarios/scenario3 -o projects/pyregence-ee/assets/aff-treatments/runs_scenarios_13_distro_norm_20220919/fuelscapes_scenarios/scenario3\n",
      "\n",
      "\n",
      "python src/calc_CC_CH.py -c c:\\aff-treatments\\config.yml -d projects/pyregence-ee/assets/aff-treatments/runs_scenarios_13_distro_norm_20220919/treatment_scenarios/scenario4 -o projects/pyregence-ee/assets/aff-treatments/runs_scenarios_13_distro_norm_20220919/fuelscapes_scenarios/scenario4\n",
      "\n",
      "\n",
      "python src/calc_CC_CH.py -c c:\\aff-treatments\\config.yml -d projects/pyregence-ee/assets/aff-treatments/runs_scenarios_13_distro_norm_20220919/treatment_scenarios/scenario5 -o projects/pyregence-ee/assets/aff-treatments/runs_scenarios_13_distro_norm_20220919/fuelscapes_scenarios/scenario5\n",
      "\n",
      "\n",
      "python src/calc_CC_CH.py -c c:\\aff-treatments\\config.yml -d projects/pyregence-ee/assets/aff-treatments/runs_scenarios_13_distro_norm_20220919/treatment_scenarios/scenario6 -o projects/pyregence-ee/assets/aff-treatments/runs_scenarios_13_distro_norm_20220919/fuelscapes_scenarios/scenario6\n",
      "\n",
      "\n",
      "python src/calc_CC_CH.py -c c:\\aff-treatments\\config.yml -d projects/pyregence-ee/assets/aff-treatments/runs_scenarios_13_distro_norm_20220919/treatment_scenarios/scenario7 -o projects/pyregence-ee/assets/aff-treatments/runs_scenarios_13_distro_norm_20220919/fuelscapes_scenarios/scenario7\n",
      "\n",
      "\n",
      "python src/calc_CC_CH.py -c c:\\aff-treatments\\config.yml -d projects/pyregence-ee/assets/aff-treatments/runs_scenarios_13_distro_norm_20220919/treatment_scenarios/scenario8 -o projects/pyregence-ee/assets/aff-treatments/runs_scenarios_13_distro_norm_20220919/fuelscapes_scenarios/scenario8\n",
      "\n",
      "\n",
      "python src/calc_CC_CH.py -c c:\\aff-treatments\\config.yml -d projects/pyregence-ee/assets/aff-treatments/runs_scenarios_13_distro_norm_20220919/treatment_scenarios/scenario9 -o projects/pyregence-ee/assets/aff-treatments/runs_scenarios_13_distro_norm_20220919/fuelscapes_scenarios/scenario9\n",
      "\n",
      "\n"
     ]
    }
   ],
   "source": [
    "# CC and CH\n",
    "for scn_img_path,scn_sub_folder in zip(scenarios_img_paths,scn_sub_folders):\n",
    "    cmd = f\"python src/calc_CC_CH.py -c {config_path} -d {scn_img_path} -o {scn_sub_folder}\" # pass the config file path, the given scenarios DIST img path, and the given scenarios fuelscapes folder path\n",
    "    print(cmd)\n",
    "    os.popen(cmd).read()\n",
    "    print('\\n')\n",
    "    #break"
   ]
  },
  {
   "cell_type": "markdown",
   "metadata": {},
   "source": [
    "### wait until all CC and CH exports have completed before running CBD_CBH "
   ]
  },
  {
   "cell_type": "code",
   "execution_count": 7,
   "metadata": {},
   "outputs": [
    {
     "name": "stdout",
     "output_type": "stream",
     "text": [
      "python src/calc_CBD_CBH.py -c c:\\aff-treatments\\config.yml -d projects/pyregence-ee/assets/aff-treatments/runs_scenarios_13_distro_norm_20220919/treatment_scenarios/scenario1 -o projects/pyregence-ee/assets/aff-treatments/runs_scenarios_13_distro_norm_20220919/fuelscapes_scenarios/scenario1\n",
      "\n",
      "\n",
      "python src/calc_CBD_CBH.py -c c:\\aff-treatments\\config.yml -d projects/pyregence-ee/assets/aff-treatments/runs_scenarios_13_distro_norm_20220919/treatment_scenarios/scenario10 -o projects/pyregence-ee/assets/aff-treatments/runs_scenarios_13_distro_norm_20220919/fuelscapes_scenarios/scenario10\n",
      "\n",
      "\n",
      "python src/calc_CBD_CBH.py -c c:\\aff-treatments\\config.yml -d projects/pyregence-ee/assets/aff-treatments/runs_scenarios_13_distro_norm_20220919/treatment_scenarios/scenario11 -o projects/pyregence-ee/assets/aff-treatments/runs_scenarios_13_distro_norm_20220919/fuelscapes_scenarios/scenario11\n",
      "\n",
      "\n",
      "python src/calc_CBD_CBH.py -c c:\\aff-treatments\\config.yml -d projects/pyregence-ee/assets/aff-treatments/runs_scenarios_13_distro_norm_20220919/treatment_scenarios/scenario12 -o projects/pyregence-ee/assets/aff-treatments/runs_scenarios_13_distro_norm_20220919/fuelscapes_scenarios/scenario12\n",
      "\n",
      "\n",
      "python src/calc_CBD_CBH.py -c c:\\aff-treatments\\config.yml -d projects/pyregence-ee/assets/aff-treatments/runs_scenarios_13_distro_norm_20220919/treatment_scenarios/scenario13 -o projects/pyregence-ee/assets/aff-treatments/runs_scenarios_13_distro_norm_20220919/fuelscapes_scenarios/scenario13\n",
      "\n",
      "\n",
      "python src/calc_CBD_CBH.py -c c:\\aff-treatments\\config.yml -d projects/pyregence-ee/assets/aff-treatments/runs_scenarios_13_distro_norm_20220919/treatment_scenarios/scenario2 -o projects/pyregence-ee/assets/aff-treatments/runs_scenarios_13_distro_norm_20220919/fuelscapes_scenarios/scenario2\n",
      "\n",
      "\n",
      "python src/calc_CBD_CBH.py -c c:\\aff-treatments\\config.yml -d projects/pyregence-ee/assets/aff-treatments/runs_scenarios_13_distro_norm_20220919/treatment_scenarios/scenario3 -o projects/pyregence-ee/assets/aff-treatments/runs_scenarios_13_distro_norm_20220919/fuelscapes_scenarios/scenario3\n",
      "\n",
      "\n",
      "python src/calc_CBD_CBH.py -c c:\\aff-treatments\\config.yml -d projects/pyregence-ee/assets/aff-treatments/runs_scenarios_13_distro_norm_20220919/treatment_scenarios/scenario4 -o projects/pyregence-ee/assets/aff-treatments/runs_scenarios_13_distro_norm_20220919/fuelscapes_scenarios/scenario4\n",
      "\n",
      "\n",
      "python src/calc_CBD_CBH.py -c c:\\aff-treatments\\config.yml -d projects/pyregence-ee/assets/aff-treatments/runs_scenarios_13_distro_norm_20220919/treatment_scenarios/scenario5 -o projects/pyregence-ee/assets/aff-treatments/runs_scenarios_13_distro_norm_20220919/fuelscapes_scenarios/scenario5\n",
      "\n",
      "\n",
      "python src/calc_CBD_CBH.py -c c:\\aff-treatments\\config.yml -d projects/pyregence-ee/assets/aff-treatments/runs_scenarios_13_distro_norm_20220919/treatment_scenarios/scenario6 -o projects/pyregence-ee/assets/aff-treatments/runs_scenarios_13_distro_norm_20220919/fuelscapes_scenarios/scenario6\n",
      "\n",
      "\n",
      "python src/calc_CBD_CBH.py -c c:\\aff-treatments\\config.yml -d projects/pyregence-ee/assets/aff-treatments/runs_scenarios_13_distro_norm_20220919/treatment_scenarios/scenario7 -o projects/pyregence-ee/assets/aff-treatments/runs_scenarios_13_distro_norm_20220919/fuelscapes_scenarios/scenario7\n",
      "\n",
      "\n",
      "python src/calc_CBD_CBH.py -c c:\\aff-treatments\\config.yml -d projects/pyregence-ee/assets/aff-treatments/runs_scenarios_13_distro_norm_20220919/treatment_scenarios/scenario8 -o projects/pyregence-ee/assets/aff-treatments/runs_scenarios_13_distro_norm_20220919/fuelscapes_scenarios/scenario8\n",
      "\n",
      "\n",
      "python src/calc_CBD_CBH.py -c c:\\aff-treatments\\config.yml -d projects/pyregence-ee/assets/aff-treatments/runs_scenarios_13_distro_norm_20220919/treatment_scenarios/scenario9 -o projects/pyregence-ee/assets/aff-treatments/runs_scenarios_13_distro_norm_20220919/fuelscapes_scenarios/scenario9\n",
      "\n",
      "\n"
     ]
    }
   ],
   "source": [
    "# CBD and CBH\n",
    "for scn_img_path,scn_sub_folder in zip(scenarios_img_paths,scn_sub_folders):\n",
    "    cmd = f\"python src/calc_CBD_CBH.py -c {config_path} -d {scn_img_path} -o {scn_sub_folder}\" # pass the config file path, the given scenarios DIST img path, and the given scenarios fuelscapes folder path\n",
    "    print(cmd)\n",
    "    os.popen(cmd).read()\n",
    "    print('\\n')\n",
    "    #break"
   ]
  },
  {
   "cell_type": "markdown",
   "metadata": {},
   "source": [
    "### After all fuel layers in each scenario's fuelscape has successfully exported, collate each 5-layer fuelscape into a multiband img for Google Drive Export"
   ]
  },
  {
   "cell_type": "code",
   "execution_count": 8,
   "metadata": {},
   "outputs": [
    {
     "name": "stdout",
     "output_type": "stream",
     "text": [
      "projects/pyregence-ee/assets/aff-treatments/runs_scenarios_13_distro_norm_20220919/treatment_scenarios/scenario1\n",
      "projects/pyregence-ee/assets/aff-treatments/runs_scenarios_13_distro_norm_20220919/fuelscapes_scenarios/scenario1\n",
      "['FM40', 'CC', 'CH', 'CBH', 'CBD']\n",
      "runs_scenarios_13_distro_norm_20220919\n",
      "scenario1\n",
      "export_runs_scenarios_13_distro_norm_20220919_scenario1_fuelStack\n",
      "EPSG:32611\n",
      "30\n",
      "Export started: AFF_Fuelscapes/runs_scenarios_13_distro_norm_20220919_fuelStack_scenario1\n",
      "projects/pyregence-ee/assets/aff-treatments/runs_scenarios_13_distro_norm_20220919/treatment_scenarios/scenario10\n",
      "projects/pyregence-ee/assets/aff-treatments/runs_scenarios_13_distro_norm_20220919/fuelscapes_scenarios/scenario10\n",
      "['FM40', 'CC', 'CH', 'CBH', 'CBD']\n",
      "runs_scenarios_13_distro_norm_20220919\n",
      "scenario10\n",
      "export_runs_scenarios_13_distro_norm_20220919_scenario10_fuelStack\n",
      "EPSG:32611\n",
      "30\n",
      "Export started: AFF_Fuelscapes/runs_scenarios_13_distro_norm_20220919_fuelStack_scenario10\n",
      "projects/pyregence-ee/assets/aff-treatments/runs_scenarios_13_distro_norm_20220919/treatment_scenarios/scenario11\n",
      "projects/pyregence-ee/assets/aff-treatments/runs_scenarios_13_distro_norm_20220919/fuelscapes_scenarios/scenario11\n",
      "['FM40', 'CC', 'CH', 'CBH', 'CBD']\n",
      "runs_scenarios_13_distro_norm_20220919\n",
      "scenario11\n",
      "export_runs_scenarios_13_distro_norm_20220919_scenario11_fuelStack\n",
      "EPSG:32611\n",
      "30\n",
      "Export started: AFF_Fuelscapes/runs_scenarios_13_distro_norm_20220919_fuelStack_scenario11\n",
      "projects/pyregence-ee/assets/aff-treatments/runs_scenarios_13_distro_norm_20220919/treatment_scenarios/scenario12\n",
      "projects/pyregence-ee/assets/aff-treatments/runs_scenarios_13_distro_norm_20220919/fuelscapes_scenarios/scenario12\n",
      "['FM40', 'CC', 'CH', 'CBH', 'CBD']\n",
      "runs_scenarios_13_distro_norm_20220919\n",
      "scenario12\n",
      "export_runs_scenarios_13_distro_norm_20220919_scenario12_fuelStack\n",
      "EPSG:32611\n",
      "30\n",
      "Export started: AFF_Fuelscapes/runs_scenarios_13_distro_norm_20220919_fuelStack_scenario12\n",
      "projects/pyregence-ee/assets/aff-treatments/runs_scenarios_13_distro_norm_20220919/treatment_scenarios/scenario13\n",
      "projects/pyregence-ee/assets/aff-treatments/runs_scenarios_13_distro_norm_20220919/fuelscapes_scenarios/scenario13\n",
      "['FM40', 'CC', 'CH', 'CBH', 'CBD']\n",
      "runs_scenarios_13_distro_norm_20220919\n",
      "scenario13\n",
      "export_runs_scenarios_13_distro_norm_20220919_scenario13_fuelStack\n",
      "EPSG:32611\n",
      "30\n",
      "Export started: AFF_Fuelscapes/runs_scenarios_13_distro_norm_20220919_fuelStack_scenario13\n",
      "projects/pyregence-ee/assets/aff-treatments/runs_scenarios_13_distro_norm_20220919/treatment_scenarios/scenario2\n",
      "projects/pyregence-ee/assets/aff-treatments/runs_scenarios_13_distro_norm_20220919/fuelscapes_scenarios/scenario2\n",
      "['FM40', 'CC', 'CH', 'CBH', 'CBD']\n",
      "runs_scenarios_13_distro_norm_20220919\n",
      "scenario2\n",
      "export_runs_scenarios_13_distro_norm_20220919_scenario2_fuelStack\n",
      "EPSG:32611\n",
      "30\n",
      "Export started: AFF_Fuelscapes/runs_scenarios_13_distro_norm_20220919_fuelStack_scenario2\n",
      "projects/pyregence-ee/assets/aff-treatments/runs_scenarios_13_distro_norm_20220919/treatment_scenarios/scenario3\n",
      "projects/pyregence-ee/assets/aff-treatments/runs_scenarios_13_distro_norm_20220919/fuelscapes_scenarios/scenario3\n",
      "['FM40', 'CC', 'CH', 'CBH', 'CBD']\n",
      "runs_scenarios_13_distro_norm_20220919\n",
      "scenario3\n",
      "export_runs_scenarios_13_distro_norm_20220919_scenario3_fuelStack\n",
      "EPSG:32611\n",
      "30\n",
      "Export started: AFF_Fuelscapes/runs_scenarios_13_distro_norm_20220919_fuelStack_scenario3\n",
      "projects/pyregence-ee/assets/aff-treatments/runs_scenarios_13_distro_norm_20220919/treatment_scenarios/scenario4\n",
      "projects/pyregence-ee/assets/aff-treatments/runs_scenarios_13_distro_norm_20220919/fuelscapes_scenarios/scenario4\n",
      "['FM40', 'CC', 'CH', 'CBH', 'CBD']\n",
      "runs_scenarios_13_distro_norm_20220919\n",
      "scenario4\n",
      "export_runs_scenarios_13_distro_norm_20220919_scenario4_fuelStack\n",
      "EPSG:32611\n",
      "30\n",
      "Export started: AFF_Fuelscapes/runs_scenarios_13_distro_norm_20220919_fuelStack_scenario4\n",
      "projects/pyregence-ee/assets/aff-treatments/runs_scenarios_13_distro_norm_20220919/treatment_scenarios/scenario5\n",
      "projects/pyregence-ee/assets/aff-treatments/runs_scenarios_13_distro_norm_20220919/fuelscapes_scenarios/scenario5\n",
      "['FM40', 'CC', 'CH', 'CBH', 'CBD']\n",
      "runs_scenarios_13_distro_norm_20220919\n",
      "scenario5\n",
      "export_runs_scenarios_13_distro_norm_20220919_scenario5_fuelStack\n",
      "EPSG:32611\n",
      "30\n",
      "Export started: AFF_Fuelscapes/runs_scenarios_13_distro_norm_20220919_fuelStack_scenario5\n",
      "projects/pyregence-ee/assets/aff-treatments/runs_scenarios_13_distro_norm_20220919/treatment_scenarios/scenario6\n",
      "projects/pyregence-ee/assets/aff-treatments/runs_scenarios_13_distro_norm_20220919/fuelscapes_scenarios/scenario6\n",
      "['FM40', 'CC', 'CH', 'CBH', 'CBD']\n",
      "runs_scenarios_13_distro_norm_20220919\n",
      "scenario6\n",
      "export_runs_scenarios_13_distro_norm_20220919_scenario6_fuelStack\n",
      "EPSG:32611\n",
      "30\n",
      "Export started: AFF_Fuelscapes/runs_scenarios_13_distro_norm_20220919_fuelStack_scenario6\n",
      "projects/pyregence-ee/assets/aff-treatments/runs_scenarios_13_distro_norm_20220919/treatment_scenarios/scenario7\n",
      "projects/pyregence-ee/assets/aff-treatments/runs_scenarios_13_distro_norm_20220919/fuelscapes_scenarios/scenario7\n",
      "['FM40', 'CC', 'CH', 'CBH', 'CBD']\n",
      "runs_scenarios_13_distro_norm_20220919\n",
      "scenario7\n",
      "export_runs_scenarios_13_distro_norm_20220919_scenario7_fuelStack\n",
      "EPSG:32611\n",
      "30\n",
      "Export started: AFF_Fuelscapes/runs_scenarios_13_distro_norm_20220919_fuelStack_scenario7\n",
      "projects/pyregence-ee/assets/aff-treatments/runs_scenarios_13_distro_norm_20220919/treatment_scenarios/scenario8\n",
      "projects/pyregence-ee/assets/aff-treatments/runs_scenarios_13_distro_norm_20220919/fuelscapes_scenarios/scenario8\n",
      "['FM40', 'CC', 'CH', 'CBH', 'CBD']\n",
      "runs_scenarios_13_distro_norm_20220919\n",
      "scenario8\n",
      "export_runs_scenarios_13_distro_norm_20220919_scenario8_fuelStack\n",
      "EPSG:32611\n",
      "30\n",
      "Export started: AFF_Fuelscapes/runs_scenarios_13_distro_norm_20220919_fuelStack_scenario8\n",
      "projects/pyregence-ee/assets/aff-treatments/runs_scenarios_13_distro_norm_20220919/treatment_scenarios/scenario9\n",
      "projects/pyregence-ee/assets/aff-treatments/runs_scenarios_13_distro_norm_20220919/fuelscapes_scenarios/scenario9\n",
      "['FM40', 'CC', 'CH', 'CBH', 'CBD']\n",
      "runs_scenarios_13_distro_norm_20220919\n",
      "scenario9\n",
      "export_runs_scenarios_13_distro_norm_20220919_scenario9_fuelStack\n",
      "EPSG:32611\n",
      "30\n",
      "Export started: AFF_Fuelscapes/runs_scenarios_13_distro_norm_20220919_fuelStack_scenario9\n"
     ]
    }
   ],
   "source": [
    "from src.utils.yml_params import get_export_params\n",
    "AOI = ee.FeatureCollection(\"projects/pyregence-ee/assets/aff-treatments/PC442_2km_buffer_bounds\").geometry()\n",
    "for scn_img_path,scn_sub_folder in zip(scenarios_img_paths,scn_sub_folders):\n",
    "    # print(scn_img_path)\n",
    "    # print(scn_sub_folder)\n",
    "    fm40 = ee.ImageCollection(scn_sub_folder+'/fm40_collection').select('new_fbfm40').mosaic()\n",
    "    cc = ee.Image(scn_sub_folder+'/CC')\n",
    "    ch = ee.Image(scn_sub_folder+'/CH')\n",
    "    cbh = ee.Image(scn_sub_folder+'/CBH')\n",
    "    cbd = ee.Image(scn_sub_folder+'/CBD')\n",
    "    fuel_stack = fm40.addBands(cc).addBands(ch).addBands(cbh).addBands(cbd).rename('FM40','CC','CH', 'CBH','CBD').toInt16()\n",
    "    # print(fuel_stack.bandNames().getInfo())\n",
    "\n",
    "    # export\n",
    "    runs_id = scn_sub_folder.split('/')[4]\n",
    "    scn_id = scn_sub_folder.split('/')[-1]\n",
    "    # print(runs_id)\n",
    "    # print(scn_id)\n",
    "    \n",
    "    desc = f\"export_{runs_id}_{scn_id}_fuelStack\"\n",
    "    crs,scale = get_export_params(config_path)\n",
    "    # print(desc)\n",
    "    # print(crs)\n",
    "    # print(scale)\n",
    "    folder=f'AFF_Fuelscapes'\n",
    "    fileNamePrefix=f'{runs_id}_fuelStack_{scn_id}'\n",
    "    \n",
    "    task = ee.batch.Export.image.toDrive(image=fuel_stack,description=desc,folder=folder,fileNamePrefix=fileNamePrefix,region=AOI,scale=scale,crs=crs)\n",
    "    task.start()\n",
    "    print(f'Export started: {folder}/{fileNamePrefix}')\n",
    "    #break"
   ]
  },
  {
   "cell_type": "code",
   "execution_count": null,
   "metadata": {},
   "outputs": [],
   "source": []
  }
 ],
 "metadata": {
  "kernelspec": {
   "display_name": "Python 3.8.13 ('gee')",
   "language": "python",
   "name": "python3"
  },
  "language_info": {
   "codemirror_mode": {
    "name": "ipython",
    "version": 3
   },
   "file_extension": ".py",
   "mimetype": "text/x-python",
   "name": "python",
   "nbconvert_exporter": "python",
   "pygments_lexer": "ipython3",
   "version": "3.8.13"
  },
  "orig_nbformat": 4,
  "vscode": {
   "interpreter": {
    "hash": "5456adbb3bcda72c3f039b556ea69b5085f7c81f44c93a142b7acd907f0ad587"
   }
  }
 },
 "nbformat": 4,
 "nbformat_minor": 2
}
