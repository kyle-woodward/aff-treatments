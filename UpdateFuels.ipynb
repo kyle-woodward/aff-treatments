{
 "cells": [
  {
   "cell_type": "code",
   "execution_count": 20,
   "metadata": {},
   "outputs": [],
   "source": [
    "import ee\n",
    "import os\n",
    "ee.Initialize()"
   ]
  },
  {
   "cell_type": "markdown",
   "metadata": {},
   "source": [
    "### Make a folder to hold fuel layers generated from your treatment scenario ensemble"
   ]
  },
  {
   "cell_type": "code",
   "execution_count": 21,
   "metadata": {},
   "outputs": [
    {
     "name": "stdout",
     "output_type": "stream",
     "text": [
      "Created Folder: projects/pyregence-ee/assets/aff-treatments/runs_scenarios_12_distro_log_20220808/fuelscapes_scenarios\n"
     ]
    }
   ],
   "source": [
    "scenarios_path = \"projects/pyregence-ee/assets/aff-treatments/runs_scenarios_12_distro_log_20220808/treatment_scenarios\"\n",
    "scenarios = ee.ImageCollection(scenarios_path)\n",
    "#create a folder representing scenarios imgColl name scheme\n",
    "folder=scenarios_path.replace('treatment_scenarios','fuelscapes_scenarios')\n",
    "os.popen(f\"earthengine create folder {folder}\").read()\n",
    "print(f'Created Folder: {folder}')"
   ]
  },
  {
   "cell_type": "markdown",
   "metadata": {},
   "source": [
    "### For each treated landscape img in your treatment scenarios imageCollection, create a new folder to hold the fuels layers"
   ]
  },
  {
   "cell_type": "code",
   "execution_count": 22,
   "metadata": {},
   "outputs": [
    {
     "name": "stdout",
     "output_type": "stream",
     "text": [
      "Created scenario fuelscapes sub-folder: projects/pyregence-ee/assets/aff-treatments/runs_scenarios_12_distro_log_20220808/fuelscapes_scenarios/scenario1\n",
      "Created scenario fuelscapes sub-folder: projects/pyregence-ee/assets/aff-treatments/runs_scenarios_12_distro_log_20220808/fuelscapes_scenarios/scenario10\n",
      "Created scenario fuelscapes sub-folder: projects/pyregence-ee/assets/aff-treatments/runs_scenarios_12_distro_log_20220808/fuelscapes_scenarios/scenario11\n",
      "Created scenario fuelscapes sub-folder: projects/pyregence-ee/assets/aff-treatments/runs_scenarios_12_distro_log_20220808/fuelscapes_scenarios/scenario12\n",
      "Created scenario fuelscapes sub-folder: projects/pyregence-ee/assets/aff-treatments/runs_scenarios_12_distro_log_20220808/fuelscapes_scenarios/scenario2\n",
      "Created scenario fuelscapes sub-folder: projects/pyregence-ee/assets/aff-treatments/runs_scenarios_12_distro_log_20220808/fuelscapes_scenarios/scenario3\n",
      "Created scenario fuelscapes sub-folder: projects/pyregence-ee/assets/aff-treatments/runs_scenarios_12_distro_log_20220808/fuelscapes_scenarios/scenario4\n",
      "Created scenario fuelscapes sub-folder: projects/pyregence-ee/assets/aff-treatments/runs_scenarios_12_distro_log_20220808/fuelscapes_scenarios/scenario5\n",
      "Created scenario fuelscapes sub-folder: projects/pyregence-ee/assets/aff-treatments/runs_scenarios_12_distro_log_20220808/fuelscapes_scenarios/scenario6\n",
      "Created scenario fuelscapes sub-folder: projects/pyregence-ee/assets/aff-treatments/runs_scenarios_12_distro_log_20220808/fuelscapes_scenarios/scenario7\n",
      "Created scenario fuelscapes sub-folder: projects/pyregence-ee/assets/aff-treatments/runs_scenarios_12_distro_log_20220808/fuelscapes_scenarios/scenario8\n",
      "Created scenario fuelscapes sub-folder: projects/pyregence-ee/assets/aff-treatments/runs_scenarios_12_distro_log_20220808/fuelscapes_scenarios/scenario9\n"
     ]
    }
   ],
   "source": [
    "scenarios_img_paths = os.popen(f\"earthengine ls {scenarios_path}\").read().split('\\n')[0:-1]\n",
    "scn_sub_folders = [(folder+'/'+os.path.basename(path)) for path in scenarios_img_paths]\n",
    "# print(scenarios_img_paths[3])\n",
    "# print(scn_sub_folders[3])\n",
    "\n",
    "for sub_folder_name in scn_sub_folders:\n",
    "    os.popen(f\"earthengine create folder {sub_folder_name}\").read()\n",
    "    print(f'Created scenario fuelscapes sub-folder: {sub_folder_name}')\n",
    "    "
   ]
  },
  {
   "cell_type": "markdown",
   "metadata": {},
   "source": [
    "### Loop thru each fuel updater script the way we do for FireFactor: create_canopy_guide, calc_CC_CH, calc_CBD_CBH, calc_FM40 (don't need to run fm40 wui update)"
   ]
  },
  {
   "cell_type": "code",
   "execution_count": 23,
   "metadata": {},
   "outputs": [],
   "source": [
    "# get config.yml file path, needed for every script\n",
    "config_path = f\"{os.getcwd()}\\config.yml\" # on windows its a forward slash"
   ]
  },
  {
   "cell_type": "markdown",
   "metadata": {},
   "source": [
    "### You can run Canopy Guide and FM40 updater scripts at same time since they do not depend on one another"
   ]
  },
  {
   "cell_type": "code",
   "execution_count": 24,
   "metadata": {},
   "outputs": [
    {
     "name": "stdout",
     "output_type": "stream",
     "text": [
      "python create_canopy_guide.py -c c:\\aff-treatments\\config.yml -d projects/pyregence-ee/assets/aff-treatments/runs_scenarios_12_distro_log_20220808/treatment_scenarios/scenario1 -o projects/pyregence-ee/assets/aff-treatments/runs_scenarios_12_distro_log_20220808/fuelscapes_scenarios/scenario1\n",
      "python create_canopy_guide.py -c c:\\aff-treatments\\config.yml -d projects/pyregence-ee/assets/aff-treatments/runs_scenarios_12_distro_log_20220808/treatment_scenarios/scenario10 -o projects/pyregence-ee/assets/aff-treatments/runs_scenarios_12_distro_log_20220808/fuelscapes_scenarios/scenario10\n",
      "python create_canopy_guide.py -c c:\\aff-treatments\\config.yml -d projects/pyregence-ee/assets/aff-treatments/runs_scenarios_12_distro_log_20220808/treatment_scenarios/scenario11 -o projects/pyregence-ee/assets/aff-treatments/runs_scenarios_12_distro_log_20220808/fuelscapes_scenarios/scenario11\n",
      "python create_canopy_guide.py -c c:\\aff-treatments\\config.yml -d projects/pyregence-ee/assets/aff-treatments/runs_scenarios_12_distro_log_20220808/treatment_scenarios/scenario12 -o projects/pyregence-ee/assets/aff-treatments/runs_scenarios_12_distro_log_20220808/fuelscapes_scenarios/scenario12\n",
      "python create_canopy_guide.py -c c:\\aff-treatments\\config.yml -d projects/pyregence-ee/assets/aff-treatments/runs_scenarios_12_distro_log_20220808/treatment_scenarios/scenario2 -o projects/pyregence-ee/assets/aff-treatments/runs_scenarios_12_distro_log_20220808/fuelscapes_scenarios/scenario2\n",
      "python create_canopy_guide.py -c c:\\aff-treatments\\config.yml -d projects/pyregence-ee/assets/aff-treatments/runs_scenarios_12_distro_log_20220808/treatment_scenarios/scenario3 -o projects/pyregence-ee/assets/aff-treatments/runs_scenarios_12_distro_log_20220808/fuelscapes_scenarios/scenario3\n",
      "python create_canopy_guide.py -c c:\\aff-treatments\\config.yml -d projects/pyregence-ee/assets/aff-treatments/runs_scenarios_12_distro_log_20220808/treatment_scenarios/scenario4 -o projects/pyregence-ee/assets/aff-treatments/runs_scenarios_12_distro_log_20220808/fuelscapes_scenarios/scenario4\n",
      "python create_canopy_guide.py -c c:\\aff-treatments\\config.yml -d projects/pyregence-ee/assets/aff-treatments/runs_scenarios_12_distro_log_20220808/treatment_scenarios/scenario5 -o projects/pyregence-ee/assets/aff-treatments/runs_scenarios_12_distro_log_20220808/fuelscapes_scenarios/scenario5\n",
      "python create_canopy_guide.py -c c:\\aff-treatments\\config.yml -d projects/pyregence-ee/assets/aff-treatments/runs_scenarios_12_distro_log_20220808/treatment_scenarios/scenario6 -o projects/pyregence-ee/assets/aff-treatments/runs_scenarios_12_distro_log_20220808/fuelscapes_scenarios/scenario6\n",
      "python create_canopy_guide.py -c c:\\aff-treatments\\config.yml -d projects/pyregence-ee/assets/aff-treatments/runs_scenarios_12_distro_log_20220808/treatment_scenarios/scenario7 -o projects/pyregence-ee/assets/aff-treatments/runs_scenarios_12_distro_log_20220808/fuelscapes_scenarios/scenario7\n",
      "python create_canopy_guide.py -c c:\\aff-treatments\\config.yml -d projects/pyregence-ee/assets/aff-treatments/runs_scenarios_12_distro_log_20220808/treatment_scenarios/scenario8 -o projects/pyregence-ee/assets/aff-treatments/runs_scenarios_12_distro_log_20220808/fuelscapes_scenarios/scenario8\n",
      "python create_canopy_guide.py -c c:\\aff-treatments\\config.yml -d projects/pyregence-ee/assets/aff-treatments/runs_scenarios_12_distro_log_20220808/treatment_scenarios/scenario9 -o projects/pyregence-ee/assets/aff-treatments/runs_scenarios_12_distro_log_20220808/fuelscapes_scenarios/scenario9\n",
      "python calc_FM40.py -c c:\\aff-treatments\\config.yml -d projects/pyregence-ee/assets/aff-treatments/runs_scenarios_12_distro_log_20220808/treatment_scenarios/scenario1 -o projects/pyregence-ee/assets/aff-treatments/runs_scenarios_12_distro_log_20220808/fuelscapes_scenarios/scenario1\n",
      "python calc_FM40.py -c c:\\aff-treatments\\config.yml -d projects/pyregence-ee/assets/aff-treatments/runs_scenarios_12_distro_log_20220808/treatment_scenarios/scenario10 -o projects/pyregence-ee/assets/aff-treatments/runs_scenarios_12_distro_log_20220808/fuelscapes_scenarios/scenario10\n",
      "python calc_FM40.py -c c:\\aff-treatments\\config.yml -d projects/pyregence-ee/assets/aff-treatments/runs_scenarios_12_distro_log_20220808/treatment_scenarios/scenario11 -o projects/pyregence-ee/assets/aff-treatments/runs_scenarios_12_distro_log_20220808/fuelscapes_scenarios/scenario11\n",
      "python calc_FM40.py -c c:\\aff-treatments\\config.yml -d projects/pyregence-ee/assets/aff-treatments/runs_scenarios_12_distro_log_20220808/treatment_scenarios/scenario12 -o projects/pyregence-ee/assets/aff-treatments/runs_scenarios_12_distro_log_20220808/fuelscapes_scenarios/scenario12\n",
      "python calc_FM40.py -c c:\\aff-treatments\\config.yml -d projects/pyregence-ee/assets/aff-treatments/runs_scenarios_12_distro_log_20220808/treatment_scenarios/scenario2 -o projects/pyregence-ee/assets/aff-treatments/runs_scenarios_12_distro_log_20220808/fuelscapes_scenarios/scenario2\n",
      "python calc_FM40.py -c c:\\aff-treatments\\config.yml -d projects/pyregence-ee/assets/aff-treatments/runs_scenarios_12_distro_log_20220808/treatment_scenarios/scenario3 -o projects/pyregence-ee/assets/aff-treatments/runs_scenarios_12_distro_log_20220808/fuelscapes_scenarios/scenario3\n",
      "python calc_FM40.py -c c:\\aff-treatments\\config.yml -d projects/pyregence-ee/assets/aff-treatments/runs_scenarios_12_distro_log_20220808/treatment_scenarios/scenario4 -o projects/pyregence-ee/assets/aff-treatments/runs_scenarios_12_distro_log_20220808/fuelscapes_scenarios/scenario4\n",
      "python calc_FM40.py -c c:\\aff-treatments\\config.yml -d projects/pyregence-ee/assets/aff-treatments/runs_scenarios_12_distro_log_20220808/treatment_scenarios/scenario5 -o projects/pyregence-ee/assets/aff-treatments/runs_scenarios_12_distro_log_20220808/fuelscapes_scenarios/scenario5\n",
      "python calc_FM40.py -c c:\\aff-treatments\\config.yml -d projects/pyregence-ee/assets/aff-treatments/runs_scenarios_12_distro_log_20220808/treatment_scenarios/scenario6 -o projects/pyregence-ee/assets/aff-treatments/runs_scenarios_12_distro_log_20220808/fuelscapes_scenarios/scenario6\n",
      "python calc_FM40.py -c c:\\aff-treatments\\config.yml -d projects/pyregence-ee/assets/aff-treatments/runs_scenarios_12_distro_log_20220808/treatment_scenarios/scenario7 -o projects/pyregence-ee/assets/aff-treatments/runs_scenarios_12_distro_log_20220808/fuelscapes_scenarios/scenario7\n",
      "python calc_FM40.py -c c:\\aff-treatments\\config.yml -d projects/pyregence-ee/assets/aff-treatments/runs_scenarios_12_distro_log_20220808/treatment_scenarios/scenario8 -o projects/pyregence-ee/assets/aff-treatments/runs_scenarios_12_distro_log_20220808/fuelscapes_scenarios/scenario8\n",
      "python calc_FM40.py -c c:\\aff-treatments\\config.yml -d projects/pyregence-ee/assets/aff-treatments/runs_scenarios_12_distro_log_20220808/treatment_scenarios/scenario9 -o projects/pyregence-ee/assets/aff-treatments/runs_scenarios_12_distro_log_20220808/fuelscapes_scenarios/scenario9\n"
     ]
    }
   ],
   "source": [
    "# Canopy Guide\n",
    "for scn_img_path,scn_sub_folder in zip(scenarios_img_paths,scn_sub_folders):\n",
    "    cmd = f\"python create_canopy_guide.py -c {config_path} -d {scn_img_path} -o {scn_sub_folder}\" # pass the config file path, the given scenarios DIST img path, and the given scenarios fuelscapes folder path\n",
    "    print(cmd)\n",
    "    os.popen(cmd).read()\n",
    "    #break\n",
    "\n",
    "# FM40\n",
    "for scn_img_path,scn_sub_folder in zip(scenarios_img_paths,scn_sub_folders):\n",
    "    cmd = f\"python calc_FM40.py -c {config_path} -d {scn_img_path} -o {scn_sub_folder}\" # pass the config file path, the given scenarios DIST img path, and the given scenarios fuelscapes folder path\n",
    "    print(cmd)\n",
    "    os.popen(cmd).read()\n",
    "    #break\n"
   ]
  },
  {
   "cell_type": "markdown",
   "metadata": {},
   "source": [
    "### You must wait until all Canopy Guide exports have successfully completed before running the CC_CH script"
   ]
  },
  {
   "cell_type": "code",
   "execution_count": 14,
   "metadata": {},
   "outputs": [],
   "source": [
    "# CC and CH\n",
    "# for scn_img_path,scn_sub_folder in zip(scenarios_img_paths,scn_sub_folders):\n",
    "#     cmd = f\"python calc_CC_CH.py -c {config_path} -d {scn_img_path} -o {scn_sub_folder}\" # pass the config file path, the given scenarios DIST img path, and the given scenarios fuelscapes folder path\n",
    "#     print(cmd)\n",
    "#     os.popen(cmd).read()\n",
    "#     print('\\n')\n",
    "#     break"
   ]
  },
  {
   "cell_type": "markdown",
   "metadata": {},
   "source": [
    "### wait until all CC and CH exports have completed before running CBD_CBH "
   ]
  },
  {
   "cell_type": "code",
   "execution_count": 15,
   "metadata": {},
   "outputs": [],
   "source": [
    "# CBD and CBH\n",
    "# for scn_img_path,scn_sub_folder in zip(scenarios_img_paths,scn_sub_folders):\n",
    "#     cmd = f\"python calc_CBD_CBH.py -c {config_path} -d {scn_img_path} -o {scn_sub_folder}\" # pass the config file path, the given scenarios DIST img path, and the given scenarios fuelscapes folder path\n",
    "#     print(cmd)\n",
    "#     os.popen(cmd).read()\n",
    "#     print('\\n')\n",
    "#     break"
   ]
  },
  {
   "cell_type": "markdown",
   "metadata": {},
   "source": [
    "### After all fuel layers in each scenario's fuelscape has successfully exported, collate each 5-layer fuelscape into a multiband img for Google Drive Export"
   ]
  },
  {
   "cell_type": "code",
   "execution_count": 16,
   "metadata": {},
   "outputs": [],
   "source": [
    "# must mosaic the canopy guide and fm40 collections (in this case just .first()) \n",
    "# since they are exported as zone-wise img collections by default"
   ]
  }
 ],
 "metadata": {
  "kernelspec": {
   "display_name": "Python 3.9.7 ('landfire')",
   "language": "python",
   "name": "python3"
  },
  "language_info": {
   "codemirror_mode": {
    "name": "ipython",
    "version": 3
   },
   "file_extension": ".py",
   "mimetype": "text/x-python",
   "name": "python",
   "nbconvert_exporter": "python",
   "pygments_lexer": "ipython3",
   "version": "3.9.7"
  },
  "orig_nbformat": 4,
  "vscode": {
   "interpreter": {
    "hash": "b045285e38fda93a4327fd6f5b25a15537de31176f3a715e434b68ddefce5dcb"
   }
  }
 },
 "nbformat": 4,
 "nbformat_minor": 2
}
