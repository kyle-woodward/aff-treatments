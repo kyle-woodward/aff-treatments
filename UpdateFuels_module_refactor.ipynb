{
 "cells": [
  {
   "cell_type": "code",
   "execution_count": 1,
   "metadata": {},
   "outputs": [],
   "source": [
    "import ee\n",
    "import os\n",
    "import logging\n",
    "from src.utils.cloud_utils import download_gcs, ee_task_list_poller\n",
    "from src.create_canopy_guide import cg\n",
    "from src.calc_FM40 import fm40\n",
    "from src.calc_CC_CH import cc_ch\n",
    "from src.calc_CBD_CBH import cbd_cbh\n",
    "from src.export_fuelstack import export_fuelstack\n",
    "import time\n",
    "import datetime\n",
    "\n",
    "repo_dir =  os.path.abspath(os.path.join(\"__file__\",\"..\"))\n",
    "date_id = datetime.datetime.utcnow().strftime(\"%Y-%m-%d\").replace('-','') # like 20221216\n",
    "logging.basicConfig(\n",
    "    format=\"%(asctime)s %(message)s\",\n",
    "    datefmt=\"%Y-%m-%d %I:%M:%S %p\",\n",
    "    level=logging.WARNING,\n",
    "    filename = os.path.join(repo_dir,\"log\",f\"{date_id}.log\")\n",
    ")\n",
    "logger = logging.getLogger(__name__)\n",
    "\n",
    "logger.setLevel(logging.INFO)\n",
    "\n",
    "ee.Initialize(project='pyregence-ee')\n",
    "\n",
    "%load_ext autoreload\n",
    "%autoreload 2"
   ]
  },
  {
   "cell_type": "markdown",
   "metadata": {},
   "source": [
    "### Make a folder to hold fuel layers generated from your treatment scenario ensemble"
   ]
  },
  {
   "cell_type": "code",
   "execution_count": 2,
   "metadata": {},
   "outputs": [
    {
     "name": "stdout",
     "output_type": "stream",
     "text": [
      "projects/pyregence-ee/assets/aff-treatments/runs_scenarios_13_distro_norm_noPriority_20230217/fuelscape_scenarios already exists\n"
     ]
    }
   ],
   "source": [
    "scenarios_path = \"projects/pyregence-ee/assets/aff-treatments/runs_scenarios_13_distro_norm_noPriority_20230217/treatment_scenarios\" # change this to given runs folder path\n",
    "scenarios = ee.ImageCollection(scenarios_path)\n",
    "#create a fuelscapes folder within the runs folder\n",
    "fuels_folder=scenarios_path.replace('treatment_scenarios','fuelscape_scenarios')\n",
    "fuels_folder_list = os.popen(f\"earthengine ls {os.path.dirname(scenarios_path)}\").read().split('\\n')[0:-1]\n",
    "if not fuels_folder in fuels_folder_list:\n",
    "    os.popen(f\"earthengine create folder {fuels_folder}\").read()\n",
    "    print(f'Created Folder: {fuels_folder}')\n",
    "else:\n",
    "    print(f\"{fuels_folder} already exists\")"
   ]
  },
  {
   "cell_type": "markdown",
   "metadata": {},
   "source": [
    "### For each treated landscape img in your treatment scenarios imageCollection, create a new folder to hold the fuels layers"
   ]
  },
  {
   "cell_type": "code",
   "execution_count": 3,
   "metadata": {},
   "outputs": [
    {
     "name": "stdout",
     "output_type": "stream",
     "text": [
      "projects/pyregence-ee/assets/aff-treatments/runs_scenarios_13_distro_norm_noPriority_20230217/fuelscape_scenarios/scenario1 already exists\n",
      "projects/pyregence-ee/assets/aff-treatments/runs_scenarios_13_distro_norm_noPriority_20230217/fuelscape_scenarios/scenario10 already exists\n",
      "projects/pyregence-ee/assets/aff-treatments/runs_scenarios_13_distro_norm_noPriority_20230217/fuelscape_scenarios/scenario11 already exists\n",
      "projects/pyregence-ee/assets/aff-treatments/runs_scenarios_13_distro_norm_noPriority_20230217/fuelscape_scenarios/scenario12 already exists\n",
      "projects/pyregence-ee/assets/aff-treatments/runs_scenarios_13_distro_norm_noPriority_20230217/fuelscape_scenarios/scenario13 already exists\n",
      "projects/pyregence-ee/assets/aff-treatments/runs_scenarios_13_distro_norm_noPriority_20230217/fuelscape_scenarios/scenario2 already exists\n",
      "projects/pyregence-ee/assets/aff-treatments/runs_scenarios_13_distro_norm_noPriority_20230217/fuelscape_scenarios/scenario3 already exists\n",
      "projects/pyregence-ee/assets/aff-treatments/runs_scenarios_13_distro_norm_noPriority_20230217/fuelscape_scenarios/scenario4 already exists\n",
      "projects/pyregence-ee/assets/aff-treatments/runs_scenarios_13_distro_norm_noPriority_20230217/fuelscape_scenarios/scenario5 already exists\n",
      "projects/pyregence-ee/assets/aff-treatments/runs_scenarios_13_distro_norm_noPriority_20230217/fuelscape_scenarios/scenario6 already exists\n",
      "projects/pyregence-ee/assets/aff-treatments/runs_scenarios_13_distro_norm_noPriority_20230217/fuelscape_scenarios/scenario7 already exists\n",
      "projects/pyregence-ee/assets/aff-treatments/runs_scenarios_13_distro_norm_noPriority_20230217/fuelscape_scenarios/scenario8 already exists\n",
      "projects/pyregence-ee/assets/aff-treatments/runs_scenarios_13_distro_norm_noPriority_20230217/fuelscape_scenarios/scenario9 already exists\n"
     ]
    }
   ],
   "source": [
    "scenarios_img_paths = os.popen(f\"earthengine ls {scenarios_path}\").read().split('\\n')[0:-1]\n",
    "scn_sub_folders = [(fuels_folder+'/'+os.path.basename(path)) for path in scenarios_img_paths]\n",
    "\n",
    "sub_folders_list = os.popen(f\"earthengine ls {fuels_folder}\").read().split('\\n')[0:-1]\n",
    "for sub_folder_name in scn_sub_folders:\n",
    "    if not sub_folder_name in sub_folders_list:\n",
    "        os.popen(f\"earthengine create folder {sub_folder_name}\").read()\n",
    "        print(f'Created scenario fuelscape sub-folder: {sub_folder_name}')\n",
    "    else:\n",
    "        print(f\"{sub_folder_name} already exists\")"
   ]
  },
  {
   "cell_type": "markdown",
   "metadata": {},
   "source": [
    "### Loop thru each fuel updater script the way we do for FireFactor: create_canopy_guide, calc_CC_CH, calc_CBD_CBH, calc_FM40 (don't need to run fm40 wui update)"
   ]
  },
  {
   "cell_type": "markdown",
   "metadata": {},
   "source": [
    "### Export Canopy Guide and FM40"
   ]
  },
  {
   "cell_type": "code",
   "execution_count": null,
   "metadata": {},
   "outputs": [],
   "source": [
    "# Create Canopy Guide\n",
    "for scn_img_path,scn_sub_folder in zip(scenarios_img_paths,scn_sub_folders):\n",
    "    cg_ic = cg(dist_img_path=scn_img_path) # don't want to poll each submitted task before launching next..\n",
    "    #break\n",
    "\n",
    "# how to check they are all done in a while loop? we've got n scns X n lf zone exports \n",
    "\n",
    "# for scn in cg_ic scns:\n",
    "#   while scn.size().. (but we don't know what .size() should be inherently, could return len() of export tasks generated within cg function."
   ]
  },
  {
   "cell_type": "code",
   "execution_count": null,
   "metadata": {},
   "outputs": [],
   "source": [
    "# Create FM40 \n",
    "for scn_img_path,scn_sub_folder in zip(scenarios_img_paths,scn_sub_folders):\n",
    "    fm40_ic = fm40(dist_img_path = scn_img_path, fuels_source='firefactor')\n",
    "    #break\n",
    "# same polling idea applies as in CG.."
   ]
  },
  {
   "cell_type": "markdown",
   "metadata": {},
   "source": [
    "### Export CC and CH (wait until all Canopy Guide exports have successfully completed before running)"
   ]
  },
  {
   "cell_type": "code",
   "execution_count": null,
   "metadata": {},
   "outputs": [],
   "source": [
    "# CC and CH\n",
    "for scn_img_path,scn_sub_folder in zip(scenarios_img_paths,scn_sub_folders):\n",
    "    cc,ch = cc_ch(dist_img_path=scn_img_path,fuels_source='firefactor')\n",
    "    # poll in the last iteration of loop? exactly two tasks each iteration but don't want to wait for each scns tasks to complete in case more than 2 tasks can run concurrently on server\n",
    "    break"
   ]
  },
  {
   "cell_type": "markdown",
   "metadata": {},
   "source": [
    "### Export CBD and CBH (wait until all CC and CH exports have completed before running)"
   ]
  },
  {
   "cell_type": "code",
   "execution_count": null,
   "metadata": {},
   "outputs": [],
   "source": [
    "for scn_img_path,scn_sub_folder in zip(scenarios_img_paths,scn_sub_folders):\n",
    "    cbd,cbh = cbd_cbh(dist_img_path=scn_img_path,fuels_source='firefactor')\n",
    "    # poll in last iteration of loop? exactly two tasks each iteration\n",
    "    break"
   ]
  },
  {
   "cell_type": "markdown",
   "metadata": {},
   "source": [
    "### After all fuel layers in each scenario's fuelscape has successfully exported, collate each 5-layer fuelscape into a multiband img for Google Drive Export"
   ]
  },
  {
   "cell_type": "code",
   "execution_count": 5,
   "metadata": {},
   "outputs": [
    {
     "name": "stdout",
     "output_type": "stream",
     "text": [
      "projects/pyregence-ee/assets/aff-treatments/runs_scenarios_13_distro_norm_noPriority_20230217/fuelscape_scenarios/scenario1\n",
      "gs://sm-tx/runs_scenarios_13_distro_norm_noPriority_20230217/fuelscape_scenarios/scenario1.tif\n"
     ]
    }
   ],
   "source": [
    "for sub_folder_name in scn_sub_folders:\n",
    "    print(sub_folder_name)\n",
    "    gcs_fuelstack = \"gs://sm-tx/runs_scenarios_13_distro_norm_noPriority_20230217/fuelscape_scenarios/scenario1.tif\"\n",
    "    # gcs_fuelstack = export_fuelstack(folder=sub_folder_name,poll=True)\n",
    "    print(gcs_fuelstack)\n",
    "    local_fuelstack = download_gcs(gcs_fuelstack)\n",
    "    break"
   ]
  }
 ],
 "metadata": {
  "kernelspec": {
   "display_name": "Python 3.8.13 ('gee')",
   "language": "python",
   "name": "python3"
  },
  "language_info": {
   "codemirror_mode": {
    "name": "ipython",
    "version": 3
   },
   "file_extension": ".py",
   "mimetype": "text/x-python",
   "name": "python",
   "nbconvert_exporter": "python",
   "pygments_lexer": "ipython3",
   "version": "3.8.13"
  },
  "orig_nbformat": 4,
  "vscode": {
   "interpreter": {
    "hash": "5456adbb3bcda72c3f039b556ea69b5085f7c81f44c93a142b7acd907f0ad587"
   }
  }
 },
 "nbformat": 4,
 "nbformat_minor": 2
}
